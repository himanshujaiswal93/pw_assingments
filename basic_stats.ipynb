{
  "nbformat": 4,
  "nbformat_minor": 0,
  "metadata": {
    "colab": {
      "provenance": []
    },
    "kernelspec": {
      "name": "python3",
      "display_name": "Python 3"
    },
    "language_info": {
      "name": "python"
    }
  },
  "cells": [
    {
      "cell_type": "code",
      "execution_count": null,
      "metadata": {
        "id": "XcdS_hzvIR_o"
      },
      "outputs": [],
      "source": [
        "#Q.1  Explain the different types of data (qualitative and quantitative) and provide examples of each. Discuss\n",
        "#nominal, ordinal, interval, and ratio scales.\n",
        "\n"
      ]
    },
    {
      "cell_type": "markdown",
      "source": [],
      "metadata": {
        "id": "CSHUL4FhJAv7"
      }
    },
    {
      "cell_type": "markdown",
      "source": [
        "Qualitative Data (Categorical Data)\n",
        "Qualitative data describes qualities or characteristics. It is typically non-numeric and often involves categories or labels. This data is not measured but observed and described in words.\n",
        "\n",
        "Examples of Qualitative Data:\n",
        "Eye color (blue, green, brown)\n",
        "Types of cars (sedan, SUV, truck)\n",
        "Customer satisfaction (satisfied, neutral, dissatisfied)\n",
        "Qualitative data can be further classified into:\n",
        "\n",
        "Nominal Data: Data that categorizes items without any meaningful order.\n",
        "Examples: Gender (male, female), types of fruit (apple, banana, orange)\n",
        "Ordinal Data: Data that categorizes items with a meaningful order, but the intervals between them are not uniform or measurable.\n",
        "Examples: Movie ratings (poor, average, good, excellent), ranks in a competition (1st, 2nd, 3rd)\n",
        "2. Quantitative Data (Numerical Data)\n",
        "Quantitative data is numeric and involves quantities or measurements. It answers \"how much\" or \"how many\" and can be used for mathematical computations.\n",
        "\n",
        "Examples of Quantitative Data:\n",
        "Height of individuals (in cm)\n",
        "Number of students in a class\n",
        "Annual income (in dollars)\n",
        "Quantitative data is further classified into:\n",
        "\n",
        "Interval Data: Data with ordered values, where the difference between values is meaningful, but there is no true zero point (i.e., zero does not mean the absence of the attribute being measured).\n",
        "Examples: Temperature in Celsius or Fahrenheit (0°C doesn’t mean \"no temperature\"), IQ scores\n",
        "Ratio Data: Data with ordered values, where both differences and ratios between values are meaningful, and there is a true zero point (zero indicates absence of the attribute).\n",
        "Examples: Weight (0 kg means no weight), age, length, time\n",
        "Summary of Data Scales:\n",
        "Nominal Scale: Categories without a natural order (e.g., blood types: A, B, AB, O)\n",
        "Ordinal Scale: Categories with a natural order, but no consistent differences (e.g., education levels: high school, bachelor’s, master’s)\n",
        "Interval Scale: Ordered with consistent intervals, but no true zero (e.g., dates, temperature in Celsius)\n",
        "Ratio Scale: Ordered with consistent intervals and a true zero (e.g., height, weight, time)\n"
      ],
      "metadata": {
        "id": "vw01JKovI3Kw"
      }
    },
    {
      "cell_type": "markdown",
      "source": [
        "Q.2 What are the measures of central tendency, and when should you use each? Discuss the mean, median,\n",
        "and mode with examples and situations where each is appropriate.?\n",
        "Ans=>\n",
        "Measures of central tendency summarize a set of data by identifying the center point or typical value. The three main measures of central tendency are mean, median, and mode. Each measure provides different insights and is appropriate for different types of data or situations.\n",
        "\n",
        "**Mean (Arithmetic Average)**\n",
        "The mean is the sum of all data values divided by the total number of values. It is used for numeric data that is evenly distributed and can provide a quick overall sense of the data.\n",
        "\n",
        "Formula:\n",
        "\n",
        "Mean= Sum of all values\n",
        "\n",
        "      Numberof values\n",
        "\n",
        " **Median (Middle Value)**\n",
        "The median is the middle value of an ordered data set. If there’s an even number of values, the median is the average of the two middle values. The median is useful when data is skewed or contains outliers, as it isn’t affected by extreme values.\n",
        "\n",
        "**Mode (Most Frequent Value)**\n",
        "The mode is the value that appears most frequently in a dataset. There can be more than one mode if multiple values have the highest frequency. The mode is particularly useful for categorical data.\n",
        "\n",
        "\n",
        "\n"
      ],
      "metadata": {
        "id": "R8nKiEqoJDBg"
      }
    },
    {
      "cell_type": "markdown",
      "source": [
        "Q.3  Explain the concept of dispersion. How do variance and standard deviation measure the spread of data?\n",
        "\n",
        "Dispersion refers to the extent to which a set of data points in a dataset are spread out or scattered. While measures of central tendency (like mean, median, and mode) provide information about the center of the data, dispersion measures how much variability exists around this center.\n",
        "\n",
        " **Variance**\n",
        "Variance measures how far each data point in a dataset is from the mean, on average, but in squared units. It captures the overall variability of the data.\n",
        "\n",
        "**Standard Deviation**\n",
        "The standard deviation is the square root of the variance and provides a measure of dispersion in the same units as the original data, making it easier to interpret. It tells us, on average, how far data points are from the mean.\n",
        "\n"
      ],
      "metadata": {
        "id": "cr-D466NKRcg"
      }
    },
    {
      "cell_type": "markdown",
      "source": [
        "Q.4 What is a box plot, and what can it tell you about the distribution of data?\n",
        "\n",
        "Ans\n",
        "Box Plot (Box-and-Whisker Plot)\n",
        "A box plot is a graphical representation used to summarize and display the distribution of a dataset. It shows the minimum, first quartile (Q1), median (Q2), third quartile (Q3), and maximum values, highlighting the range, central tendency, and variability of the data.\n",
        "\n"
      ],
      "metadata": {
        "id": "nmVxTFXhKpxP"
      }
    },
    {
      "cell_type": "markdown",
      "source": [
        "Q.5  Discuss the role of random sampling in making inferences about populations.\n",
        "\n",
        "Random sampling refers to a method of selecting a subset of individuals from a population in such a way that:"
      ],
      "metadata": {
        "id": "pd5-cIhiLqes"
      }
    },
    {
      "cell_type": "markdown",
      "source": [
        "Q.6  Explain the concept of skewness and its types. How does skewness affect the interpretation of data?\n",
        "\n",
        "Skewness is a measure of the asymmetry or lack of symmetry in the distribution of data. In a perfectly symmetrical distribution, such as a normal distribution, the left and right sides of the distribution are mirror images of each other. However, in real-world data, distributions are often skewed, meaning they have longer tails on one side than the other.\n",
        "\n",
        "**Types of Skewness**\n",
        "There are three main types of skewness:\n",
        "\n",
        "Positive Skewness (Right Skewness)\n",
        "Negative Skewness (Left Skewness)\n",
        "Zero Skewness (Symmetrical Distribution)"
      ],
      "metadata": {
        "id": "Ysn3-F-PL5Z1"
      }
    },
    {
      "cell_type": "markdown",
      "source": [
        "Q.7  What is the interquartile range (IQR), and how is it used to detect outliers?\n",
        "\n",
        "The Interquartile Range (IQR) is a measure of statistical dispersion, representing the range within which the middle 50% of a dataset lies. It is calculated by subtracting the first quartile (Q1) from the third quartile (Q3). The IQR provides an understanding of the spread of the central portion of the data, excluding extreme values.\n",
        "\n"
      ],
      "metadata": {
        "id": "u2P7wpGWMedK"
      }
    },
    {
      "cell_type": "markdown",
      "source": [
        "Q.8  Discuss the conditions under which the binomial distribution is used.\n",
        "\n",
        "The binomial distribution is a discrete probability distribution that describes the number of successes in a fixed number of independent Bernoulli trials, where each trial has exactly two possible outcomes: success or failure. The binomial distribution is used under specific conditions, which ensure its applicability and accuracy."
      ],
      "metadata": {
        "id": "5QZ5ZlP9MxA5"
      }
    },
    {
      "cell_type": "markdown",
      "source": [
        "Q.9  Explain the properties of the normal distribution and the empirical rule (68-95-99.7 rule).\n",
        "\n",
        "\n",
        "The normal distribution is one of the most commonly used probability distributions in statistics. It is symmetric and describes how data points are distributed around a mean.\n",
        "\n",
        "\n",
        "The normal distribution is one of the most commonly used probability distributions in statistics. It is symmetric and describes how data points are distributed around a mean. Here are its key properties:\n",
        "\n",
        "1. Shape and Symmetry:\n",
        "The normal distribution is bell-shaped and symmetric around its mean (μ).\n",
        "The left and right sides of the distribution are mirror images of each other.\n",
        "Most of the data points cluster around the center (mean), with fewer points as you move further away from the mean.\n",
        "2. Mean, Median, and Mode:\n",
        "In a perfectly normal distribution, the mean, median, and mode are all equal and occur at the center of the distribution (μ).\n",
        "3. Standard Deviation (σ):\n",
        "The standard deviation (σ) measures the spread of the distribution. A smaller σ means the data points are clustered closely around the mean, while a larger σ indicates the data points are more spread out.\n",
        "The variance is the square of the standard deviation (σ²), indicating the extent of dispersion in the data.\n",
        "4. Probability Density Function (PDF):\n",
        "The PDF of a normal distribution is given by the formula:\n",
        "𝑓\n",
        "(\n",
        "𝑥\n",
        ")\n",
        "=\n",
        "1\n",
        "𝜎\n",
        "2\n",
        "𝜋\n",
        "𝑒\n",
        "−\n",
        "1\n",
        "2\n",
        "(\n",
        "𝑥\n",
        "−\n",
        "𝜇\n",
        "𝜎\n",
        ")\n",
        "2\n",
        "f(x)=\n",
        "σ\n",
        "2π\n",
        "​\n",
        "\n",
        "1\n",
        "​\n",
        " e\n",
        "−\n",
        "2\n",
        "1\n",
        "​\n",
        " (\n",
        "σ\n",
        "x−μ\n",
        "​\n",
        " )\n",
        "2\n",
        "\n",
        "\n",
        "This equation describes the height of the bell curve at each point.\n",
        "5. Asymptotic Behavior:\n",
        "The tails of the normal distribution extend infinitely in both directions and never touch the x-axis. This means that there is a small probability of obtaining values far from the mean, but it’s never zero.\n",
        "The Empirical Rule (68-95-99.7 Rule):\n",
        "The Empirical Rule applies specifically to normal distributions and describes how data is spread in relation to the mean and standard deviations.\n",
        "\n",
        "68% of the data falls within 1 standard deviation of the mean\n",
        "95% of the data falls within 2 standard deviations of the mean\n",
        "99.7% of the data falls within 3 standard deviations of the mean"
      ],
      "metadata": {
        "id": "Iuk81bBKNI7Y"
      }
    },
    {
      "cell_type": "markdown",
      "source": [
        "Q.10  Provide a real-life example of a Poisson process and calculate the probability for a specific event\n",
        "\n",
        "A Poisson process is a statistical model that describes events occurring randomly over time or space, with the key assumption that the events happen independently of each other, and at a constant average rate.\n",
        "\n",
        "Example: Consider the number of customers arriving at a coffee shop in a given hour. Suppose, on average, 5 customers arrive every hour, but the exact number of customers arriving in any given hour is unpredictable. The number of customers arriving follows a Poisson distribution.\n",
        "\n"
      ],
      "metadata": {
        "id": "bh3QduhUQGa_"
      }
    },
    {
      "cell_type": "code",
      "source": [],
      "metadata": {
        "id": "KHRkopDiKQLE"
      },
      "execution_count": null,
      "outputs": []
    },
    {
      "cell_type": "markdown",
      "source": [
        ".Q.11 Explain what a random variable is and differentiate between discrete and continuous random variables.\n",
        "\n",
        "A random variable is a numerical outcome of a random phenomenon or process. It is a variable whose value is determined by the outcome of a random experiment or event. In other words, it assigns a number to each possible outcome in a sample space.\n",
        "\n",
        "Discrete Random Variable\n",
        "A discrete random variable is a random variable that can take only a finite or countable number of distinct values. These values are typically whole numbers or integers, and there are gaps between the possible values.\n",
        "\n",
        " Continuous Random Variable\n",
        "A continuous random variable is a random variable that can take any value within a certain range or interval, which means it can take an infinite number of possible values. These values are not countable because they can include decimal or fractional values."
      ],
      "metadata": {
        "id": "fk1GQWPIQvLS"
      }
    },
    {
      "cell_type": "markdown",
      "source": [
        "Q.12  Provide an example dataset, calculate both covariance and correlation, and interpret the results.\n",
        "Consider the following dataset showing the scores of two students in two subjects: Math and Science.\n",
        "\n",
        "Student\tMath Score (X)\tScience Score (Y)\n",
        "A\t80\t75\n",
        "B\t85\t88\n",
        "C\t90\t92\n",
        "D\t70\t65\n",
        "E\t75\t80\n",
        "Now, let's calculate both covariance and correlation between the Math scores and Science scores.\n",
        "\n",
        "\n",
        "Step 1: Calculate the Mean of X (Math) and Y (Science)\n",
        "Mean of Math scores (X̄):\n",
        "𝑋\n",
        "ˉ\n",
        "=\n",
        "80\n",
        "+\n",
        "85\n",
        "+\n",
        "90\n",
        "+\n",
        "70\n",
        "+\n",
        "75\n",
        "5\n",
        "=\n",
        "400\n",
        "5\n",
        "=\n",
        "80\n",
        "X\n",
        "ˉ\n",
        " =\n",
        "5\n",
        "80+85+90+70+75\n",
        "​\n",
        " =\n",
        "5\n",
        "400\n",
        "​\n",
        " =80\n",
        "Mean of Science scores (Ȳ):\n",
        "𝑌\n",
        "ˉ\n",
        "=\n",
        "75\n",
        "+\n",
        "88\n",
        "+\n",
        "92\n",
        "+\n",
        "65\n",
        "+\n",
        "80\n",
        "5\n",
        "=\n",
        "400\n",
        "5\n",
        "=\n",
        "80\n",
        "Y\n",
        "ˉ\n",
        " =\n",
        "5\n",
        "75+88+92+65+80\n",
        "​\n",
        " =\n",
        "5\n",
        "400\n",
        "​\n",
        " =80\n",
        "Step 2: Calculate Covariance\n",
        "Covariance measures how two variables vary together. The formula for covariance between two variables\n",
        "\n",
        "\n"
      ],
      "metadata": {
        "id": "qcReu3goRUan"
      }
    }
  ]
}