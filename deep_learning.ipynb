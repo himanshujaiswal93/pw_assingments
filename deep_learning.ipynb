{
 "cells": [
  {
   "cell_type": "code",
   "execution_count": null,
   "metadata": {},
   "outputs": [],
   "source": []
  },
  {
   "cell_type": "markdown",
   "metadata": {},
   "source": [
    "Q.1 What is TensorFlow 2.0, and how is it different from TensorFlow 1.x?\n",
    "\n",
    "TensorFlow 2.0 is a major update to the TensorFlow framework. The primary differences between TensorFlow 2.0 and TensorFlow 1.x are:\n",
    "\n",
    "Eager Execution by Default: In TensorFlow 2.0, eager execution is enabled by default, making debugging and prototyping much easier.\n",
    "\n",
    "Simplified API: TensorFlow 2.0 removes redundant APIs and simplifies the structure, making it more Pythonic and user-friendly.\n",
    "\n",
    "Keras Integration: Keras, a high-level neural network API, is fully integrated into TensorFlow 2.0, allowing you to build models with less code.\n",
    "\n",
    "Better Support for TensorFlow Serving and TensorFlow Lite: These tools are more tightly integrated in TensorFlow 2.0 for deployment."
   ]
  },
  {
   "cell_type": "markdown",
   "metadata": {},
   "source": [
    "Q.2How do you install TensorFlow 2.0?\n",
    "\n",
    "pip install tensorflow"
   ]
  },
  {
   "cell_type": "markdown",
   "metadata": {},
   "source": [
    "Q.3 What is the primary function of the tf.function in TensorFlow 2.0?\n",
    "\n",
    "The tf.function decorator in TensorFlow 2.0 transforms a Python function into a TensorFlow graph, which allows for better performance and optimization. It improves the execution speed by compiling the Python function into a graph-based model."
   ]
  },
  {
   "cell_type": "markdown",
   "metadata": {},
   "source": [
    "Q.4 What is the purpose of the Model class in TensorFlow 2.0?\n",
    "\n",
    "The Model class in TensorFlow 2.0 is a high-level class used for defining and training neural network models. It encapsulates the model's layers, the forward pass, and the training process. You can create custom models by subclassing this class or by using the functional API."
   ]
  },
  {
   "cell_type": "markdown",
   "metadata": {},
   "source": [
    "Q.5 How do you create a neural network using TensorFlow 2.0?\n",
    "\n",
    "import tensorflow as tf\n",
    "from tensorflow.keras import layers, models\n",
    "\n",
    "model = models.Sequential([\n",
    "    layers.Dense(64, activation='relu', input_shape=(784,)),\n",
    "    layers.Dense(64, activation='relu'),\n",
    "    layers.Dense(10, activation='softmax')\n",
    "])\n",
    "\n",
    "model.compile(optimizer='adam', loss='sparse_categorical_crossentropy', metrics=['accuracy'])\n"
   ]
  },
  {
   "cell_type": "markdown",
   "metadata": {},
   "source": [
    "Q.6 What is the importance of Tensor Space in TensorFlow?\n",
    "\n",
    "\n",
    "Tensor space in TensorFlow refers to the multi-dimensional array (tensor) used to represent data and models. It is crucial because it provides a uniform structure for data and operations across different computing platforms, such as CPUs, GPUs, and TPUs."
   ]
  },
  {
   "cell_type": "markdown",
   "metadata": {},
   "source": [
    "Q.7 How can TensorBoard be integrated with TensorFlow 2.0?\n",
    "\n",
    "TensorBoard can be integrated with TensorFlow 2.0 by creating a tf.keras.callbacks.TensorBoard callback and passing it during model training:"
   ]
  },
  {
   "cell_type": "markdown",
   "metadata": {},
   "source": [
    "Q.8 What is the purpose of TensorFlow Playground?\n",
    "\n",
    "TensorFlow Playground is a web-based tool for experimenting with neural networks. It allows users to visualize and manipulate neural network configurations and training processes in real-time, without writing any code."
   ]
  },
  {
   "cell_type": "markdown",
   "metadata": {},
   "source": [
    "Q.9 What is Netron, and how is it useful for deep learning models?\n",
    "\n",
    "Netron is a visualization tool for deep learning models. It helps you visualize model architectures in a user-friendly way, supporting many model formats like TensorFlow, Keras, PyTorch, and more. It helps in debugging and understanding complex models."
   ]
  },
  {
   "cell_type": "markdown",
   "metadata": {},
   "source": [
    "Q.10 What is the difference between TensorFlow and PyTorch?\n",
    "\n",
    "TensorFlow: A more production-oriented framework, widely used in large-scale deployment and supported by Google.\n",
    "\n",
    "PyTorch: A more research-oriented framework, favored for its dynamic computation graph and ease of debugging. It is developed by Facebook."
   ]
  },
  {
   "cell_type": "markdown",
   "metadata": {},
   "source": [
    "Q.11 How do you install PyTorch?\n",
    "\n",
    "pip install torch torchvision torchaudio\n"
   ]
  },
  {
   "cell_type": "markdown",
   "metadata": {},
   "source": [
    "Q.12 What is the basic structure of a PyTorch neural network?\n",
    "\n",
    "import torch\n",
    "import torch.nn as nn\n",
    "\n",
    "class SimpleNN(nn.Module):\n",
    "    def __init__(self):\n",
    "        super(SimpleNN, self).__init__()\n",
    "        self.fc1 = nn.Linear(784, 128)\n",
    "        self.fc2 = nn.Linear(128, 10)\n",
    "    \n",
    "    def forward(self, x):\n",
    "        x = torch.relu(self.fc1(x))\n",
    "        x = self.fc2(x)\n",
    "        return x\n",
    "\n",
    "\n"
   ]
  },
  {
   "cell_type": "markdown",
   "metadata": {},
   "source": [
    "Q.13 What is the significance of tensors in PyTorch?\n",
    "\n",
    "Tensors in PyTorch are the fundamental building blocks for creating deep learning models. They represent multi-dimensional arrays and are similar to NumPy arrays but with additional capabilities for GPU acceleration."
   ]
  },
  {
   "cell_type": "markdown",
   "metadata": {},
   "source": [
    "Q.14 What is the difference between torch.Tensor and torch.cuda.Tensor in PyTorch?\n",
    "\n",
    "torch.Tensor: A tensor stored on the CPU by default.\n",
    "\n",
    "torch.cuda.Tensor: A tensor stored on the GPU, enabling faster computations."
   ]
  },
  {
   "cell_type": "markdown",
   "metadata": {},
   "source": [
    "Q.15 What is the purpose of the torch.optim module in PyTorch?\n",
    "\n",
    "The torch.optim module provides optimization algorithms like SGD, Adam, and others. These are used to update the model's parameters during training by minimizing the loss function."
   ]
  },
  {
   "cell_type": "markdown",
   "metadata": {},
   "source": [
    "Q.16 What are some common activation functions used in neural networks?\n",
    "Common activation functions include:\n",
    "\n",
    "ReLU (Rectified Linear Unit)\n",
    "\n",
    "Sigmoid\n",
    "\n",
    "Tanh\n",
    "\n",
    "Softmax\n",
    "\n",
    "Leaky ReLU"
   ]
  },
  {
   "cell_type": "markdown",
   "metadata": {},
   "source": [
    "Q.17 What is the difference between torch.nn.Module and torch.nn.Sequential in PyTorch?\n",
    "\n",
    "torch.nn.Module: The base class for all models. You can define custom architectures by subclassing this class and defining the forward pass.\n",
    "\n",
    "torch.nn.Sequential: A simpler, container-like class where you can define models as a sequence of layers (linear, activation, etc.), but without custom forward logic."
   ]
  },
  {
   "cell_type": "markdown",
   "metadata": {},
   "source": [
    "Q.18 How can you monitor training progress in TensorFlow 2.0?\n",
    "\n",
    "You can monitor training progress using:\n",
    "\n",
    "TensorBoard (as explained earlier)\n",
    "\n",
    "Model callbacks like EarlyStopping, ModelCheckpoint, etc."
   ]
  },
  {
   "cell_type": "markdown",
   "metadata": {},
   "source": [
    "Q.19 How does the Keras API fit into TensorFlow 2.0?\n",
    "\n",
    "Keras is fully integrated into TensorFlow 2.0 as its official high-level API for building and training neural networks. It simplifies the model-building process with fewer lines of code and better usability."
   ]
  },
  {
   "cell_type": "markdown",
   "metadata": {},
   "source": [
    "Q.20 What is an example of a deep learning project that can be implemented using TensorFlow 2.0?\n",
    "\n",
    "An example could be creating a handwritten digit recognition system using the MNIST dataset. You can build and train a convolutional neural network (CNN) for image classification using TensorFlow 2.0."
   ]
  },
  {
   "cell_type": "markdown",
   "metadata": {},
   "source": [
    "Q.21 What is the main advantage of using pre-trained models in TensorFlow and PyTorch?\n",
    "\n",
    "The main advantage is that pre-trained models allow you to leverage the knowledge learned from a large dataset, reducing training time and computational resources. You can fine-tune these models on your own dataset, achieving good performance even with limited data."
   ]
  },
  {
   "cell_type": "markdown",
   "metadata": {},
   "source": [
    "**practical**"
   ]
  },
  {
   "cell_type": "code",
   "execution_count": 2,
   "metadata": {},
   "outputs": [
    {
     "name": "stdout",
     "output_type": "stream",
     "text": [
      "2.19.0\n",
      "tf.Tensor([1. 2. 3. 4.], shape=(4,), dtype=float32)\n"
     ]
    }
   ],
   "source": [
    "# q.1\n",
    "\n",
    "import tensorflow as tf\n",
    "print(tf.__version__)\n",
    "\n",
    "#Verify TensorFlow's Functionality\n",
    "# Create a constant tensor\n",
    "tensor = tf.constant([1.0, 2.0, 3.0, 4.0])\n",
    "\n",
    "# Print the tensor\n",
    "print(tensor)\n"
   ]
  },
  {
   "cell_type": "code",
   "execution_count": 3,
   "metadata": {},
   "outputs": [
    {
     "name": "stdout",
     "output_type": "stream",
     "text": [
      "tf.Tensor(8, shape=(), dtype=int32)\n"
     ]
    }
   ],
   "source": [
    "#q.2\n",
    "\n",
    "import tensorflow as tf\n",
    "\n",
    "# Define a function to add two tensors\n",
    "@tf.function\n",
    "def add_tensors(a, b):\n",
    "    return a + b\n",
    "\n",
    "# Example usage\n",
    "tensor1 = tf.constant(5)\n",
    "tensor2 = tf.constant(3)\n",
    "\n",
    "result = add_tensors(tensor1, tensor2)\n",
    "\n",
    "print(result)\n"
   ]
  },
  {
   "cell_type": "code",
   "execution_count": 4,
   "metadata": {},
   "outputs": [
    {
     "name": "stderr",
     "output_type": "stream",
     "text": [
      "/Users/himanshujaiswal/Library/Python/3.9/lib/python/site-packages/keras/src/layers/core/dense.py:87: UserWarning: Do not pass an `input_shape`/`input_dim` argument to a layer. When using Sequential models, prefer using an `Input(shape)` object as the first layer in the model instead.\n",
      "  super().__init__(activity_regularizer=activity_regularizer, **kwargs)\n"
     ]
    },
    {
     "data": {
      "text/html": [
       "<pre style=\"white-space:pre;overflow-x:auto;line-height:normal;font-family:Menlo,'DejaVu Sans Mono',consolas,'Courier New',monospace\"><span style=\"font-weight: bold\">Model: \"sequential\"</span>\n",
       "</pre>\n"
      ],
      "text/plain": [
       "\u001b[1mModel: \"sequential\"\u001b[0m\n"
      ]
     },
     "metadata": {},
     "output_type": "display_data"
    },
    {
     "data": {
      "text/html": [
       "<pre style=\"white-space:pre;overflow-x:auto;line-height:normal;font-family:Menlo,'DejaVu Sans Mono',consolas,'Courier New',monospace\">┏━━━━━━━━━━━━━━━━━━━━━━━━━━━━━━━━━┳━━━━━━━━━━━━━━━━━━━━━━━━┳━━━━━━━━━━━━━━━┓\n",
       "┃<span style=\"font-weight: bold\"> Layer (type)                    </span>┃<span style=\"font-weight: bold\"> Output Shape           </span>┃<span style=\"font-weight: bold\">       Param # </span>┃\n",
       "┡━━━━━━━━━━━━━━━━━━━━━━━━━━━━━━━━━╇━━━━━━━━━━━━━━━━━━━━━━━━╇━━━━━━━━━━━━━━━┩\n",
       "│ dense (<span style=\"color: #0087ff; text-decoration-color: #0087ff\">Dense</span>)                   │ (<span style=\"color: #00d7ff; text-decoration-color: #00d7ff\">None</span>, <span style=\"color: #00af00; text-decoration-color: #00af00\">64</span>)             │        <span style=\"color: #00af00; text-decoration-color: #00af00\">50,240</span> │\n",
       "├─────────────────────────────────┼────────────────────────┼───────────────┤\n",
       "│ dense_1 (<span style=\"color: #0087ff; text-decoration-color: #0087ff\">Dense</span>)                 │ (<span style=\"color: #00d7ff; text-decoration-color: #00d7ff\">None</span>, <span style=\"color: #00af00; text-decoration-color: #00af00\">10</span>)             │           <span style=\"color: #00af00; text-decoration-color: #00af00\">650</span> │\n",
       "└─────────────────────────────────┴────────────────────────┴───────────────┘\n",
       "</pre>\n"
      ],
      "text/plain": [
       "┏━━━━━━━━━━━━━━━━━━━━━━━━━━━━━━━━━┳━━━━━━━━━━━━━━━━━━━━━━━━┳━━━━━━━━━━━━━━━┓\n",
       "┃\u001b[1m \u001b[0m\u001b[1mLayer (type)                   \u001b[0m\u001b[1m \u001b[0m┃\u001b[1m \u001b[0m\u001b[1mOutput Shape          \u001b[0m\u001b[1m \u001b[0m┃\u001b[1m \u001b[0m\u001b[1m      Param #\u001b[0m\u001b[1m \u001b[0m┃\n",
       "┡━━━━━━━━━━━━━━━━━━━━━━━━━━━━━━━━━╇━━━━━━━━━━━━━━━━━━━━━━━━╇━━━━━━━━━━━━━━━┩\n",
       "│ dense (\u001b[38;5;33mDense\u001b[0m)                   │ (\u001b[38;5;45mNone\u001b[0m, \u001b[38;5;34m64\u001b[0m)             │        \u001b[38;5;34m50,240\u001b[0m │\n",
       "├─────────────────────────────────┼────────────────────────┼───────────────┤\n",
       "│ dense_1 (\u001b[38;5;33mDense\u001b[0m)                 │ (\u001b[38;5;45mNone\u001b[0m, \u001b[38;5;34m10\u001b[0m)             │           \u001b[38;5;34m650\u001b[0m │\n",
       "└─────────────────────────────────┴────────────────────────┴───────────────┘\n"
      ]
     },
     "metadata": {},
     "output_type": "display_data"
    },
    {
     "data": {
      "text/html": [
       "<pre style=\"white-space:pre;overflow-x:auto;line-height:normal;font-family:Menlo,'DejaVu Sans Mono',consolas,'Courier New',monospace\"><span style=\"font-weight: bold\"> Total params: </span><span style=\"color: #00af00; text-decoration-color: #00af00\">50,890</span> (198.79 KB)\n",
       "</pre>\n"
      ],
      "text/plain": [
       "\u001b[1m Total params: \u001b[0m\u001b[38;5;34m50,890\u001b[0m (198.79 KB)\n"
      ]
     },
     "metadata": {},
     "output_type": "display_data"
    },
    {
     "data": {
      "text/html": [
       "<pre style=\"white-space:pre;overflow-x:auto;line-height:normal;font-family:Menlo,'DejaVu Sans Mono',consolas,'Courier New',monospace\"><span style=\"font-weight: bold\"> Trainable params: </span><span style=\"color: #00af00; text-decoration-color: #00af00\">50,890</span> (198.79 KB)\n",
       "</pre>\n"
      ],
      "text/plain": [
       "\u001b[1m Trainable params: \u001b[0m\u001b[38;5;34m50,890\u001b[0m (198.79 KB)\n"
      ]
     },
     "metadata": {},
     "output_type": "display_data"
    },
    {
     "data": {
      "text/html": [
       "<pre style=\"white-space:pre;overflow-x:auto;line-height:normal;font-family:Menlo,'DejaVu Sans Mono',consolas,'Courier New',monospace\"><span style=\"font-weight: bold\"> Non-trainable params: </span><span style=\"color: #00af00; text-decoration-color: #00af00\">0</span> (0.00 B)\n",
       "</pre>\n"
      ],
      "text/plain": [
       "\u001b[1m Non-trainable params: \u001b[0m\u001b[38;5;34m0\u001b[0m (0.00 B)\n"
      ]
     },
     "metadata": {},
     "output_type": "display_data"
    }
   ],
   "source": [
    "#Q.3 \n",
    "import tensorflow as tf\n",
    "from tensorflow.keras import layers, models\n",
    "\n",
    "# Create a simple Sequential model\n",
    "model = models.Sequential([\n",
    "    # Input layer with 784 input features (e.g., for MNIST dataset) and a hidden layer with 64 neurons\n",
    "    layers.Dense(64, activation='relu', input_shape=(784,)),\n",
    "    \n",
    "    # Output layer with 10 neurons (e.g., for 10 classes in classification)\n",
    "    layers.Dense(10, activation='softmax')\n",
    "])\n",
    "\n",
    "# Compile the model with a loss function, optimizer, and evaluation metric\n",
    "model.compile(optimizer='adam',\n",
    "              loss='sparse_categorical_crossentropy',\n",
    "              metrics=['accuracy'])\n",
    "\n",
    "# Summary of the model architecture\n",
    "model.summary()\n"
   ]
  },
  {
   "cell_type": "code",
   "execution_count": 5,
   "metadata": {},
   "outputs": [
    {
     "name": "stdout",
     "output_type": "stream",
     "text": [
      "Epoch 1/10\n"
     ]
    },
    {
     "name": "stderr",
     "output_type": "stream",
     "text": [
      "/Users/himanshujaiswal/Library/Python/3.9/lib/python/site-packages/keras/src/layers/core/dense.py:87: UserWarning: Do not pass an `input_shape`/`input_dim` argument to a layer. When using Sequential models, prefer using an `Input(shape)` object as the first layer in the model instead.\n",
      "  super().__init__(activity_regularizer=activity_regularizer, **kwargs)\n"
     ]
    },
    {
     "name": "stdout",
     "output_type": "stream",
     "text": [
      "\u001b[1m25/25\u001b[0m \u001b[32m━━━━━━━━━━━━━━━━━━━━\u001b[0m\u001b[37m\u001b[0m \u001b[1m0s\u001b[0m 5ms/step - accuracy: 0.0840 - loss: 2.4382 - val_accuracy: 0.0800 - val_loss: 2.3270\n",
      "Epoch 2/10\n",
      "\u001b[1m25/25\u001b[0m \u001b[32m━━━━━━━━━━━━━━━━━━━━\u001b[0m\u001b[37m\u001b[0m \u001b[1m0s\u001b[0m 2ms/step - accuracy: 0.1130 - loss: 2.2970 - val_accuracy: 0.1100 - val_loss: 2.3182\n",
      "Epoch 3/10\n",
      "\u001b[1m25/25\u001b[0m \u001b[32m━━━━━━━━━━━━━━━━━━━━\u001b[0m\u001b[37m\u001b[0m \u001b[1m0s\u001b[0m 2ms/step - accuracy: 0.1130 - loss: 2.3009 - val_accuracy: 0.1150 - val_loss: 2.3237\n",
      "Epoch 4/10\n",
      "\u001b[1m25/25\u001b[0m \u001b[32m━━━━━━━━━━━━━━━━━━━━\u001b[0m\u001b[37m\u001b[0m \u001b[1m0s\u001b[0m 2ms/step - accuracy: 0.1617 - loss: 2.2798 - val_accuracy: 0.0750 - val_loss: 2.3209\n",
      "Epoch 5/10\n",
      "\u001b[1m25/25\u001b[0m \u001b[32m━━━━━━━━━━━━━━━━━━━━\u001b[0m\u001b[37m\u001b[0m \u001b[1m0s\u001b[0m 2ms/step - accuracy: 0.1358 - loss: 2.2748 - val_accuracy: 0.1050 - val_loss: 2.3161\n",
      "Epoch 6/10\n",
      "\u001b[1m25/25\u001b[0m \u001b[32m━━━━━━━━━━━━━━━━━━━━\u001b[0m\u001b[37m\u001b[0m \u001b[1m0s\u001b[0m 2ms/step - accuracy: 0.1457 - loss: 2.2464 - val_accuracy: 0.0800 - val_loss: 2.3385\n",
      "Epoch 7/10\n",
      "\u001b[1m25/25\u001b[0m \u001b[32m━━━━━━━━━━━━━━━━━━━━\u001b[0m\u001b[37m\u001b[0m \u001b[1m0s\u001b[0m 2ms/step - accuracy: 0.1759 - loss: 2.2351 - val_accuracy: 0.1150 - val_loss: 2.3225\n",
      "Epoch 8/10\n",
      "\u001b[1m25/25\u001b[0m \u001b[32m━━━━━━━━━━━━━━━━━━━━\u001b[0m\u001b[37m\u001b[0m \u001b[1m0s\u001b[0m 2ms/step - accuracy: 0.1942 - loss: 2.2133 - val_accuracy: 0.0800 - val_loss: 2.3561\n",
      "Epoch 9/10\n",
      "\u001b[1m25/25\u001b[0m \u001b[32m━━━━━━━━━━━━━━━━━━━━\u001b[0m\u001b[37m\u001b[0m \u001b[1m0s\u001b[0m 2ms/step - accuracy: 0.2467 - loss: 2.1824 - val_accuracy: 0.0900 - val_loss: 2.3328\n",
      "Epoch 10/10\n",
      "\u001b[1m25/25\u001b[0m \u001b[32m━━━━━━━━━━━━━━━━━━━━\u001b[0m\u001b[37m\u001b[0m \u001b[1m0s\u001b[0m 2ms/step - accuracy: 0.2963 - loss: 2.1414 - val_accuracy: 0.0500 - val_loss: 2.3561\n"
     ]
    },
    {
     "data": {
      "image/png": "[encoded data removed]",
      "text/plain": [
       "<Figure size 1200x600 with 2 Axes>"
      ]
     },
     "metadata": {},
     "output_type": "display_data"
    }
   ],
   "source": [
    "#q.4 \n",
    "\n",
    "import tensorflow as tf\n",
    "import matplotlib.pyplot as plt\n",
    "\n",
    "# Create a simple neural network model (as described before)\n",
    "model = tf.keras.Sequential([\n",
    "    tf.keras.layers.Dense(64, activation='relu', input_shape=(784,)),\n",
    "    tf.keras.layers.Dense(10, activation='softmax')\n",
    "])\n",
    "\n",
    "# Compile the model\n",
    "model.compile(optimizer='adam',\n",
    "              loss='sparse_categorical_crossentropy',\n",
    "              metrics=['accuracy'])\n",
    "\n",
    "# Generate dummy data for training (assuming you're using MNIST-like data)\n",
    "import numpy as np\n",
    "X_train = np.random.random((1000, 784))  # Example input\n",
    "y_train = np.random.randint(10, size=(1000,))  # Example output with 10 classes\n",
    "\n",
    "# Train the model and capture the training history\n",
    "history = model.fit(X_train, y_train, epochs=10, batch_size=32, validation_split=0.2)\n",
    "\n",
    "# Visualizing the training progress\n",
    "# Plot training & validation accuracy\n",
    "plt.figure(figsize=(12, 6))\n",
    "\n",
    "# Training accuracy\n",
    "plt.subplot(1, 2, 1)\n",
    "plt.plot(history.history['accuracy'], label='Training Accuracy')\n",
    "plt.plot(history.history['val_accuracy'], label='Validation Accuracy')\n",
    "plt.title('Training and Validation Accuracy')\n",
    "plt.xlabel('Epochs')\n",
    "plt.ylabel('Accuracy')\n",
    "plt.legend()\n",
    "\n",
    "# Training loss\n",
    "plt.subplot(1, 2, 2)\n",
    "plt.plot(history.history['loss'], label='Training Loss')\n",
    "plt.plot(history.history['val_loss'], label='Validation Loss')\n",
    "plt.title('Training and Validation Loss')\n",
    "plt.xlabel('Epochs')\n",
    "plt.ylabel('Loss')\n",
    "plt.legend()\n",
    "\n",
    "# Show the plots\n",
    "plt.tight_layout()\n",
    "plt.show()\n"
   ]
  },
  {
   "cell_type": "code",
   "execution_count": 16,
   "metadata": {},
   "outputs": [
    {
     "name": "stdout",
     "output_type": "stream",
     "text": [
      "Defaulting to user installation because normal site-packages is not writeable\n",
      "Collecting torch\n",
      "  Downloading torch-2.7.0-cp39-none-macosx_11_0_arm64.whl (68.6 MB)\n",
      "\u001b[K     |████████████████████████████████| 68.6 MB 1.1 MB/s eta 0:00:01\n",
      "\u001b[?25hCollecting torchvision\n",
      "  Downloading torchvision-0.22.0-cp39-cp39-macosx_11_0_arm64.whl (1.9 MB)\n",
      "\u001b[K     |████████████████████████████████| 1.9 MB 553 kB/s eta 0:00:01\n",
      "\u001b[?25hCollecting torchaudio\n",
      "  Downloading torchaudio-2.7.0-cp39-cp39-macosx_11_0_arm64.whl (1.8 MB)\n",
      "\u001b[K     |████████████████████████████████| 1.8 MB 951 kB/s eta 0:00:01\n",
      "\u001b[?25hRequirement already satisfied: jinja2 in /Users/himanshujaiswal/Library/Python/3.9/lib/python/site-packages (from torch) (3.1.6)\n",
      "Collecting networkx\n",
      "  Downloading networkx-3.2.1-py3-none-any.whl (1.6 MB)\n",
      "\u001b[K     |████████████████████████████████| 1.6 MB 744 kB/s eta 0:00:01\n",
      "\u001b[?25hCollecting fsspec\n",
      "  Downloading fsspec-2025.3.2-py3-none-any.whl (194 kB)\n",
      "\u001b[K     |████████████████████████████████| 194 kB 1.2 MB/s eta 0:00:01\n",
      "\u001b[?25hCollecting filelock\n",
      "  Downloading filelock-3.18.0-py3-none-any.whl (16 kB)\n",
      "Collecting sympy>=1.13.3\n",
      "  Downloading sympy-1.14.0-py3-none-any.whl (6.3 MB)\n",
      "\u001b[K     |████████████████████████████████| 6.3 MB 3.0 MB/s eta 0:00:01\n",
      "\u001b[?25hRequirement already satisfied: typing-extensions>=4.10.0 in /Users/himanshujaiswal/Library/Python/3.9/lib/python/site-packages (from torch) (4.12.2)\n",
      "Requirement already satisfied: numpy in /Users/himanshujaiswal/Library/Python/3.9/lib/python/site-packages (from torchvision) (1.26.4)\n",
      "Requirement already satisfied: pillow!=8.3.*,>=5.3.0 in /Users/himanshujaiswal/Library/Python/3.9/lib/python/site-packages (from torchvision) (11.1.0)\n",
      "Collecting mpmath<1.4,>=1.1.0\n",
      "  Downloading mpmath-1.3.0-py3-none-any.whl (536 kB)\n",
      "\u001b[K     |████████████████████████████████| 536 kB 2.2 MB/s eta 0:00:01\n",
      "\u001b[?25hRequirement already satisfied: MarkupSafe>=2.0 in /Users/himanshujaiswal/Library/Python/3.9/lib/python/site-packages (from jinja2->torch) (3.0.2)\n",
      "Installing collected packages: mpmath, sympy, networkx, fsspec, filelock, torch, torchvision, torchaudio\n",
      "Successfully installed filelock-3.18.0 fsspec-2025.3.2 mpmath-1.3.0 networkx-3.2.1 sympy-1.14.0 torch-2.7.0 torchaudio-2.7.0 torchvision-0.22.0\n",
      "\u001b[33mWARNING: You are using pip version 21.2.4; however, version 25.0.1 is available.\n",
      "You should consider upgrading via the '/Library/Developer/CommandLineTools/usr/bin/python3 -m pip install --upgrade pip' command.\u001b[0m\n",
      "Note: you may need to restart the kernel to use updated packages.\n"
     ]
    }
   ],
   "source": [
    "#Q.5 \n",
    "\n",
    "\n",
    "\n",
    "%pip install torch torchvision torchaudio\n",
    "\n"
   ]
  },
  {
   "cell_type": "code",
   "execution_count": 17,
   "metadata": {},
   "outputs": [
    {
     "name": "stdout",
     "output_type": "stream",
     "text": [
      "SimpleNN(\n",
      "  (fc1): Linear(in_features=784, out_features=128, bias=True)\n",
      "  (fc2): Linear(in_features=128, out_features=10, bias=True)\n",
      ")\n"
     ]
    }
   ],
   "source": [
    "import torch\n",
    "import torch.nn as nn\n",
    "import torch.optim as optim\n",
    "\n",
    "# Define the Neural Network class\n",
    "class SimpleNN(nn.Module):\n",
    "    def __init__(self):\n",
    "        super(SimpleNN, self).__init__()\n",
    "        # Define the layers\n",
    "        self.fc1 = nn.Linear(784, 128)  # First hidden layer (784 input features, 128 neurons)\n",
    "        self.fc2 = nn.Linear(128, 10)   # Output layer (10 output classes)\n",
    "\n",
    "    def forward(self, x):\n",
    "        # Apply activation function after each layer\n",
    "        x = torch.relu(self.fc1(x))  # ReLU activation after the first layer\n",
    "        x = self.fc2(x)              # Output layer\n",
    "        return x\n",
    "\n",
    "# Create an instance of the model\n",
    "model = SimpleNN()\n",
    "\n",
    "# Print model architecture\n",
    "print(model)\n",
    "\n",
    "# Define a loss function and optimizer\n",
    "criterion = nn.CrossEntropyLoss()  # Common loss for classification problems\n",
    "optimizer = optim.Adam(model.parameters(), lr=0.001)  # Adam optimizer\n"
   ]
  },
  {
   "cell_type": "code",
   "execution_count": 20,
   "metadata": {},
   "outputs": [
    {
     "name": "stdout",
     "output_type": "stream",
     "text": [
      "Mean Squared Error Loss: 0.08999999612569809\n"
     ]
    }
   ],
   "source": [
    "#q.7 \n",
    "# Mean Squared Error Loss (for regression)\n",
    "import torch\n",
    "import torch.nn as nn\n",
    "\n",
    "# Define the loss function\n",
    "loss_function = nn.MSELoss()\n",
    "\n",
    "# Example prediction and target tensors\n",
    "predictions = torch.tensor([0.5, 0.6, 0.7])  # Example predictions\n",
    "targets = torch.tensor([1.0, 0.5, 0.8])  # True target values\n",
    "\n",
    "# Calculate the loss\n",
    "loss = loss_function(predictions, targets)\n",
    "print(f'Mean Squared Error Loss: {loss.item()}')\n",
    "\n",
    "# adam optimizer\n",
    "import torch\n",
    "import torch.optim as optim\n",
    "\n",
    "# Define a simple neural network (example model)\n",
    "model = torch.nn.Linear(2, 1)  # 2 input features, 1 output\n",
    "\n",
    "# Define the Adam optimizer\n",
    "optimizer = optim.Adam(model.parameters(), lr=0.001)  # Learning rate = 0.001\n",
    "\n",
    "# Example of how to use the optimizer\n",
    "optimizer.zero_grad()  # Zero the gradients before the backward pass\n",
    "output = model(torch.tensor([[1.0, 2.0]]))  # Forward pass\n",
    "loss = torch.nn.MSELoss()(output, torch.tensor([[0.5]]))  # Calculate loss\n",
    "loss.backward()  # Backpropagate the loss\n",
    "optimizer.step()  # Update the model's weights\n",
    "\n"
   ]
  },
  {
   "cell_type": "code",
   "execution_count": 26,
   "metadata": {},
   "outputs": [],
   "source": [
    "# q.8\n",
    "import torch\n",
    "import torch.nn as nn\n",
    "\n",
    "class CustomMAELoss(nn.Module):\n",
    "    def __init__(self):\n",
    "        super(CustomMAELoss, self).__init__()\n",
    "        \n",
    "    def forward(self, predictions, targets):\n",
    "        # Compute the absolute error\n",
    "        absolute_error = torch.abs(predictions - targets)\n",
    "        # Return the mean of the absolute errors\n",
    "        return torch.mean(absolute_error)\n"
   ]
  },
  {
   "cell_type": "code",
   "execution_count": 22,
   "metadata": {},
   "outputs": [
    {
     "name": "stdout",
     "output_type": "stream",
     "text": [
      "Custom MAE Loss: 0.23333334922790527\n"
     ]
    }
   ],
   "source": [
    "# Example: Custom MAE Loss\n",
    "\n",
    "# Define the custom loss function\n",
    "loss_function = CustomMAELoss()\n",
    "\n",
    "# Example prediction and target tensors\n",
    "predictions = torch.tensor([0.5, 0.6, 0.7])  # Example predictions\n",
    "targets = torch.tensor([1.0, 0.5, 0.8])  # True target values\n",
    "\n",
    "# Calculate the loss\n",
    "loss = loss_function(predictions, targets)\n",
    "print(f'Custom MAE Loss: {loss.item()}')\n"
   ]
  },
  {
   "cell_type": "code",
   "execution_count": 25,
   "metadata": {},
   "outputs": [
    {
     "name": "stderr",
     "output_type": "stream",
     "text": [
      "WARNING:absl:You are saving your model as an HDF5 file via `model.save()` or `keras.saving.save_model(model)`. This file format is considered legacy. We recommend using instead the native Keras format, e.g. `model.save('my_model.keras')` or `keras.saving.save_model(model, 'my_model.keras')`. \n"
     ]
    }
   ],
   "source": [
    "# Q.9\n",
    "import tensorflow as tf\n",
    "\n",
    "# Example: Define a simple model\n",
    "model = tf.keras.Sequential([\n",
    "    tf.keras.layers.Dense(64, activation='relu', input_shape=(32,)),\n",
    "    tf.keras.layers.Dense(10, activation='softmax')\n",
    "])\n",
    "\n",
    "# Compile the model\n",
    "model.compile(optimizer='adam', loss='sparse_categorical_crossentropy', metrics=['accuracy'])\n",
    "\n",
    "# Train the model (example)\n",
    "# model.fit(x_train, y_train, epochs=10)\n",
    "\n",
    "# Save the entire model\n",
    "model.save('my_model.h5')  # Save as HDF5 file\n"
   ]
  },
  {
   "cell_type": "code",
   "execution_count": null,
   "metadata": {},
   "outputs": [],
   "source": []
  }
 ],
 "metadata": {
  "kernelspec": {
   "display_name": "Python 3",
   "language": "python",
   "name": "python3"
  },
  "language_info": {
   "codemirror_mode": {
    "name": "ipython",
    "version": 3
   },
   "file_extension": ".py",
   "mimetype": "text/x-python",
   "name": "python",
   "nbconvert_exporter": "python",
   "pygments_lexer": "ipython3",
   "version": "3.9.6"
  }
 },
 "nbformat": 4,
 "nbformat_minor": 2
}
