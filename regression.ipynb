{
  "metadata": {
    "kernelspec": {
      "name": "python",
      "display_name": "Python (Pyodide)",
      "language": "python"
    },
    "language_info": {
      "codemirror_mode": {
        "name": "python",
        "version": 3
      },
      "file_extension": ".py",
      "mimetype": "text/x-python",
      "name": "python",
      "nbconvert_exporter": "python",
      "pygments_lexer": "ipython3",
      "version": "3.8"
    }
  },
  "nbformat_minor": 5,
  "nbformat": 4,
  "cells": [
    {
      "id": "ed12e50d-2401-473a-ae99-a361d85d3596",
      "cell_type": "raw",
      "source": "#Q.1 What is Simple Linear Regression \n\nSimple Linear Regression is a statistical method that models the linear relationship between two variables: one independent variable (X) and one dependent variable (Y). It predicts 𝑌\nY based on the equation:  Y=mX+c\nwhere \nm is the slope, and \nc is the intercept.\n\n",
      "metadata": {}
    },
    {
      "id": "161dc54f-b761-47da-b91c-816948dd205d",
      "cell_type": "raw",
      "source": "Q>2 What are the key assumptions of Simple Linear Regression\n\nLinearity: The relationship between 𝑋 and Y is linear.\nIndependence: Observations are independent of each other.\nHomoscedasticity: The variance of residuals is constant across all levels of X.\nNormality of Residuals: The residuals (differences between observed and predicted (Y) follow a normal distribution.\nNo Multicollinearity: Not applicable here as there is only one predictor.",
      "metadata": {}
    },
    {
      "id": "0131e15f-230c-4180-ab15-5f541b68ec64",
      "cell_type": "raw",
      "source": "Q>3 What does the coefficient m represent in the equation Y=mX+c\n\nthe slop (m) is reprsent the rate of change of (Y) with rerspect to (X).\nSpecifically, m is the change in Y for a one-unit increase in X.\n\n\n",
      "metadata": {}
    },
    {
      "id": "d6f8df98-d1d0-4f75-9e5e-87a9615af36f",
      "cell_type": "raw",
      "source": "Q.4 What does the intercept c represent in the equation Y=mX+c\n\nThe intercept (c) is the value of 𝑌 when X=0.\nIt represents the starting point of the regression line on the Y-axis.",
      "metadata": {}
    },
    {
      "id": "7cb75c95-ecad-4401-9b4e-62606fadb72f",
      "cell_type": "raw",
      "source": "Q.5  How do we calculate the slope m in Simple Linear Regression\n\nthe slop is calculated as \n\n \n",
      "metadata": {}
    },
    {
      "id": "1941539b-393e-4a3e-a93a-e07d7994049d",
      "cell_type": "raw",
      "source": "Q.6 What is the purpose of the least squares method in Simple Linear Regression\n\nThe least squares method minimizes the sum of squared differences (residuals) between the observed values and the predicted values. It ensures the best-fitting line for the data.",
      "metadata": {}
    },
    {
      "id": "e81f9679-c04a-4cbf-8cf6-38026524b780",
      "cell_type": "raw",
      "source": "Q.7 How is the coefficient of determination (R²) interpreted in Simple Linear Regression\n\nR 2  measures the proportion of the variance in the dependent variable (Y) explained by the independent variable (X). It ranges from 0 to 1:",
      "metadata": {}
    },
    {
      "id": "467dcc10-9fb9-4c82-8a55-98f547583cdc",
      "cell_type": "raw",
      "source": "Q.8 What is Multiple Linear Regression\n\nMultiple Linear Regression models the relationship between one dependent variable and two or more independent variables.",
      "metadata": {}
    },
    {
      "id": "a2c9d511-25e9-4900-9215-82fda983ab65",
      "cell_type": "raw",
      "source": "Q.9  What is the main difference between Simple and Multiple Linear Regression?\n\nSimple Linear Regression: One independent variable.\nMultiple Linear Regression: Two or more independent variables.",
      "metadata": {}
    },
    {
      "id": "cbf83afa-863e-4842-aef3-cd4aa488ae13",
      "cell_type": "raw",
      "source": "Q.10 Simple Linear Regression: One independent variable.\nMultiple Linear Regression: Two or more independent variables.\n\nLinearity of relationships.\nIndependence of observations.\nHomoscedasticity.\nNormality of residuals.\nNo multicollinearity among independent variables.\n",
      "metadata": {}
    },
    {
      "id": "879cb7aa-370a-4c68-94c5-1ce5f61e945a",
      "cell_type": "raw",
      "source": "Q.11 What is heteroscedasticity, and how does it affect the results of a Multiple Linear Regression model?\n\nHeteroscedasticity occurs when the variance of residuals is not constant across all levels of predictors. It can lead to biased standard errors, invalidating statistical tests.",
      "metadata": {}
    },
    {
      "id": "9d7f66ec-f5e3-4d72-94cd-a7d1912cd767",
      "cell_type": "raw",
      "source": "Q.12 How can you improve a Multiple Linear Regression model with high multicollinearity?\n\nRemove highly correlated predictors.\nUse dimensionality reduction techniques (e.g., PCA).\nApply regularization methods like Ridge or Lasso regression.\n",
      "metadata": {}
    },
    {
      "id": "6c6558f3-2912-45ec-8684-6f1c237281d8",
      "cell_type": "raw",
      "source": "Q.13 What are some common techniques for transforming categorical variables for use in regression models?\n\nOne-hot encoding.\nLabel encoding.\nBinary encoding.\nFrequency or count encoding.",
      "metadata": {}
    },
    {
      "id": "2e717b09-b64e-4600-8c7d-c71a77054b6b",
      "cell_type": "raw",
      "source": "Q.14 What is the role of interaction terms in Multiple Linear Regression?\n\nInteraction terms account for the combined effect of two or more predictors on the dependent variable.",
      "metadata": {}
    },
    {
      "id": "d3cd03ac-e529-425b-a7c9-506a182f7839",
      "cell_type": "raw",
      "source": "Q.15 How can the interpretation of intercept differ between Simple and Multiple Linear Regression?\n\nSimple Regression: The value of \n𝑌\nY when \n𝑋\n=\n0\nX=0.\nMultiple Regression: The value of \n𝑌\nY when all predictors are 0, which might not always be meaningful.\n",
      "metadata": {}
    },
    {
      "id": "fbc01d8b-787d-4508-a033-13f9f1acf3e0",
      "cell_type": "raw",
      "source": "Q.16 What is the significance of the slope in regression analysis, and how does it affect predictions?\n\nThe slope indicates the strength and direction of the relationship between a predictor and the outcome. A higher absolute slope means a stronger effect.\n\n",
      "metadata": {}
    },
    {
      "id": "395dfab0-ffd6-4bc8-801d-6c064abe649a",
      "cell_type": "raw",
      "source": "Q.17 How does the intercept in a regression model provide context for the relationship between variables?\n\nThe intercept gives the baseline value of the dependent variable when all predictors are zero, contextualizing the relationship.",
      "metadata": {}
    },
    {
      "id": "3d84076c-8fe3-42d0-a1bf-f478374584cf",
      "cell_type": "raw",
      "source": "Q.18 What are the limitations of using 𝑅2  as a sole measure of model performance?\n\n𝑅2doesn’t account for overfitting.\nIt doesn’t indicate how well the model predicts unseen data.\nHigh 𝑅2 doesn’t imply causation.",
      "metadata": {}
    },
    {
      "id": "7eb84a81-ba74-4aeb-bfb0-d4de939e52f2",
      "cell_type": "raw",
      "source": "Q.19 How would you interpret a large standard error for a regression coefficient?\n\nA large standard error suggests the coefficient estimate is imprecise, often due to small sample size, high variability, or multicollinearity.",
      "metadata": {}
    },
    {
      "id": "ecc5c4bd-1e84-4f90-b167-8c1aa9de6ada",
      "cell_type": "raw",
      "source": "Q.20 How can heteroscedasticity be identified in residual plots, and why is it important to address it?\n\nHeteroscedasticity appears as a funnel shape in residuals vs. fitted values plots. Addressing it is crucial to ensure valid statistical tests and confidence intervals.",
      "metadata": {}
    },
    {
      "id": "2073242d-407c-4025-a9f7-97fa8c42542f",
      "cell_type": "raw",
      "source": "Q.21  What does it mean if a Multiple Linear Regression model has a high 𝑅2\n\n\nIt indicates that some predictors in the model do not contribute significantly, potentially causing overfitting.",
      "metadata": {}
    },
    {
      "id": "488a3b3f-3fa2-40f1-9e40-919a2699b570",
      "cell_type": "raw",
      "source": "Q.22 Why is it important to scale variables in Multiple Linear Regression?\n\nScaling ensures that variables with larger ranges don’t dominate the regression coefficients, improving model interpretability and numerical stability",
      "metadata": {}
    },
    {
      "id": "f2f69dd0-be90-4307-81e3-e86c856ddf82",
      "cell_type": "raw",
      "source": "Q.23  What is polynomial regression?\nPolynomial regression models non-linear relationships between X and 𝑌 by adding polynomial terms to the equation:",
      "metadata": {}
    },
    {
      "id": "103f4761-af6d-43e2-abfb-6d9e643da9cf",
      "cell_type": "raw",
      "source": "Q.24  How does polynomial regression differ from linear regression?\n\nLinear Regression: Models linear relationships.\nPolynomial Regression: Models non-linear relationships by including higher-order terms.",
      "metadata": {}
    },
    {
      "id": "5237c2dc-c2c4-455e-9595-922cce6e45aa",
      "cell_type": "raw",
      "source": "Q.25  When is polynomial regression used?\nPolynomial regression is used when the relationship between the dependent variable (\nY) and the independent variable(s) (X) is non-linear but can be approximated by a polynomial function. It is commonly applied in situations where:\n\nA linear model is insufficient to capture the underlying trends.\nThe data exhibits curvature.\nNon-linear patterns can be approximated using polynomial terms.",
      "metadata": {}
    },
    {
      "id": "5cf7ca2c-72f4-4e96-ac84-b896b2a97771",
      "cell_type": "raw",
      "source": "Q.26 What is the general equation for polynomial regression?\n polynomial regression can include interaction terms and polynomial terms for each variable.",
      "metadata": {}
    },
    {
      "id": "1c859fa8-9bf5-4816-924c-231a9e17ac09",
      "cell_type": "raw",
      "source": "Q.27 Can polynomial regression be applied to multiple variables?\n\nYes, polynomial regression can be extended to multiple variables by including polynomial terms for each varible  and their interactions\n\n",
      "metadata": {}
    },
    {
      "id": "32a1b376-634a-4620-8ad8-805635113397",
      "cell_type": "raw",
      "source": "Q.28 What are the limitations of polynomial regression?\n\nOverfitting: High-degree polynomials may fit the training data too well, leading to poor generalization.\nExtrapolation issues: Predictions outside the range of the data can become highly inaccurate.\nComplexity: Higher-degree polynomials increase model complexity, making interpretation difficult.\nMulticollinearity: Polynomial terms can be highly correlated, affecting the stability of the model coefficients.",
      "metadata": {}
    },
    {
      "id": "eaeff285-c678-4226-88bb-d08f5d16fdff",
      "cell_type": "raw",
      "source": "Q.29 What methods can be used to evaluate model fit when selecting the degree of a polynomial?\n\nCross-validation: Evaluate the model’s performance on validation data to avoid overfitting.\nResidual analysis: Check residual plots to ensure no patterns remain.\nAdjusted \nR2: Use adjusted 𝑅2to account for additional terms in the model.\nAIC/BIC: Use Akaike Information Criterion (AIC) or Bayesian Information Criterion (BIC) for model selection.\nError metrics: Evaluate metrics like Mean Squared Error (MSE) or Root Mean Squared Error (RMSE).",
      "metadata": {}
    },
    {
      "id": "09804e94-4772-43b7-ae3b-c3903cdf1f7f",
      "cell_type": "raw",
      "source": "Q.30 Why is visualization important in polynomial regression?\nVisualization helps:\n\nDetect non-linear trends in the data that justify using polynomial regression.\nUnderstand how well the model fits the data by plotting the polynomial curve against the actual data points.\nIdentify overfitting or underfitting by visualizing the residuals or comparing training and testing data fits.",
      "metadata": {}
    },
    {
      "id": "c87da850-b645-46bc-ae25-5e519dd54f19",
      "cell_type": "code",
      "source": "#Q.31 How is polynomial regression implemented in Python?\n\nimport numpy as np\nimport matplotlib.pyplot as plt\nfrom sklearn.preprocessing import PolynomialFeatures\nfrom sklearn.linear_model import LinearRegression\nfrom sklearn.metrics import mean_squared_error\n\n# Example data\nX = np.array([1, 2, 3, 4, 5]).reshape(-1, 1)\ny = np.array([1, 4, 9, 16, 25])\n\n# Transform features to polynomial terms\ndegree = 2  # Degree of the polynomial\npoly = PolynomialFeatures(degree)\nX_poly = poly.fit_transform(X)\n\n# Fit the polynomial regression model\nmodel = LinearRegression()\nmodel.fit(X_poly, y)\n\n# Predict using the model\ny_pred = model.predict(X_poly)\n\n# Evaluate model performance\nmse = mean_squared_error(y, y_pred)\nprint(f\"Mean Squared Error: {mse}\")\n\n# Visualization\nplt.scatter(X, y, color='blue', label='Data Points')\nplt.plot(X, y_pred, color='red', label='Polynomial Fit')\nplt.xlabel('X')\nplt.ylabel('y')\nplt.legend()\nplt.show()\n\n\n",
      "metadata": {
        "trusted": true
      },
      "outputs": [
        {
          "name": "stderr",
          "output_type": "stream",
          "text": "Matplotlib is building the font cache; this may take a moment.\n"
        },
        {
          "name": "stdout",
          "output_type": "stream",
          "text": "Mean Squared Error: 6.685842690780956e-29\n"
        },
        {
          "output_type": "display_data",
          "data": {
            "text/plain": "<Figure size 640x480 with 1 Axes>",
            "image/png": "[encoded data removed]"
          },
          "metadata": {}
        }
      ],
      "execution_count": 3
    },
    {
      "id": "e5e6f728-4f76-45a4-bf00-d50ff024fd45",
      "cell_type": "code",
      "source": "",
      "metadata": {
        "trusted": true
      },
      "outputs": [],
      "execution_count": null
    }
  ]
}