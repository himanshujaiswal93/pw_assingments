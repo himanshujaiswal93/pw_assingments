{
 "cells": [
  {
   "cell_type": "markdown",
   "id": "215a62d1-98d5-4ec3-8ed9-2d0a279a8ffe",
   "metadata": {},
   "source": [
    "Q.1 Discuss the scenarios where multithreading is preferable to multiprocessing and scenarios where multiprocessing is a better choice"
   ]
  },
  {
   "cell_type": "markdown",
   "id": "09787ceb-3835-4ba2-9c2d-1c0172dd8888",
   "metadata": {},
   "source": [
    " Ans => Multithreading is ideal for tasks that are I/O-bound or require frequent access to shared data."
   ]
  },
  {
   "cell_type": "markdown",
   "id": "343672ed-cf16-42f4-952a-d9293db02881",
   "metadata": {},
   "source": [
    "Q.2 Describe what a process pool is and how it helps in managing multiple processes efficiently.\n",
    "\n"
   ]
  },
  {
   "cell_type": "markdown",
   "id": "893d7fac-8132-42b3-96c0-99a72b30e831",
   "metadata": {},
   "source": [
    "A process pool is a programming pattern for automatically managing a pool of worker processe"
   ]
  },
  {
   "cell_type": "markdown",
   "id": "9af883c7-eb8d-47ed-8336-0fd1e5c9a03e",
   "metadata": {},
   "source": [
    "Q.3  Explain what multiprocessing is and why it is used in Python programs"
   ]
  },
  {
   "cell_type": "markdown",
   "id": "c1424737-a669-4ef4-9a97-d295e362891b",
   "metadata": {},
   "source": [
    "Multiprocessing in Python is a built-in package that allows the system to run multiple processes simultaneously"
   ]
  },
  {
   "cell_type": "markdown",
   "id": "15c1603c-5061-4e47-87bd-c7cd7e5d745a",
   "metadata": {},
   "source": [
    "Q.4 Write a Python program using multithreading where one thread adds numbers to a list, and another thread removes numbers from the list. Implement a mechanism to avoid race conditions using threading.\n"
   ]
  },
  {
   "cell_type": "code",
   "execution_count": null,
   "id": "9754c2f3-df4d-4376-b8a8-6263ab39f44f",
   "metadata": {},
   "outputs": [],
   "source": [
    "import threading\n",
    "import time\n",
    "import random\n",
    "\n",
    "numbers_list = []\n",
    "list_lock = threading.Lock()\n",
    "\n",
    "\n",
    "def add_numbers():\n",
    "    while True:\n",
    "        number = random.randint(1, 10)\n",
    "        \n",
    "        with list_lock:\n",
    "            numbers_list.append(number)\n",
    "            print(f\"Added: {number}\")\n",
    "        time.sleep(random.uniform(0.1, 1))  \n",
    "\n",
    "def remove_numbers():\n",
    "    while True:\n",
    "        with list_lock:\n",
    "            if numbers_list:\n",
    "                number = numbers_list.pop(0)\n",
    "                print(f\"Removed: {number}\")\n",
    "        time.sleep(random.uniform(0.1, 1))\n",
    "# Create threads\n",
    "thread1 = threading.Thread(target=add_numbers)\n",
    "thread2 = threading.Thread(target=remove_numbers)\n",
    "\n",
    "# Start threads\n",
    "thread1.start()\n",
    "thread2.start()\n",
    "\n",
    "# Join threads (optional: will keep the main thread alive)\n",
    "thread1.join()\n",
    "thread2.join()\n",
    "\n"
   ]
  },
  {
   "cell_type": "markdown",
   "id": "a9771d2a-200f-423e-843e-384fa8c9dc39",
   "metadata": {},
   "source": [
    "Q.5 Describe the methods and tools available in Python for safely sharing data between threads and processes.\n",
    "\n",
    "\n"
   ]
  },
  {
   "cell_type": "markdown",
   "id": "215b56ef-0f7e-4df4-9856-90e51550605e",
   "metadata": {},
   "source": [
    "Perhaps the safest way to send data from one thread to another is to use a Queue from the queue library."
   ]
  },
  {
   "cell_type": "markdown",
   "id": "6fecb384-39d6-4b9c-9221-627694a870fe",
   "metadata": {},
   "source": [
    "Q.6 Discuss why it’s crucial to handle exceptions in concurrent programs and the techniques available for doing so.\n",
    "\n"
   ]
  },
  {
   "cell_type": "markdown",
   "id": "76ee6648-340a-4396-9a38-79938e1f44bc",
   "metadata": {},
   "source": [
    "Exception handling can be used to ensure proper resource cleanup, such as closing files or releasing memory, even in the presence of errors."
   ]
  },
  {
   "cell_type": "markdown",
   "id": "e3f90d0e-41e7-495e-b7f8-607de3211d65",
   "metadata": {},
   "source": [
    "Q.7 Create a program that uses a thread pool to calculate the factorial of numbers from 1 to 10 concurrently. Use concurrent.futures.ThreadPoolExecutor to manage the threads.\n",
    "\n",
    "\n"
   ]
  },
  {
   "cell_type": "code",
   "execution_count": 1,
   "id": "1ea741ce-0681-4043-bc4d-ceca34e732aa",
   "metadata": {},
   "outputs": [
    {
     "name": "stdout",
     "output_type": "stream",
     "text": [
      "Factorial of 1 is 1\n",
      "Factorial of 2 is 2\n",
      "Factorial of 3 is 6\n",
      "Factorial of 4 is 24\n",
      "Factorial of 5 is 120\n",
      "Factorial of 6 is 720\n",
      "Factorial of 7 is 5040\n",
      "Factorial of 8 is 40320\n",
      "Factorial of 9 is 362880\n",
      "Factorial of 10 is 3628800\n"
     ]
    }
   ],
   "source": [
    "from concurrent.futures import ThreadPoolExecutor\n",
    "import math\n",
    "\n",
    "def calculate_factorial(n):\n",
    "    return (n, math.factorial(n))\n",
    "\n",
    "numbers = list(range(1, 11))\n",
    "\n",
    "\n",
    "with ThreadPoolExecutor(max_workers=5) as executor:\n",
    "    # Submitting tasks to the thread pool\n",
    "    results = executor.map(calculate_factorial, numbers)\n",
    "\n",
    "# Printing the results\n",
    "for number, factorial in results:\n",
    "    print(f\"Factorial of {number} is {factorial}\")\n"
   ]
  },
  {
   "cell_type": "markdown",
   "id": "b2cfc741-aea2-4eb2-8d88-a9f9c03d88c6",
   "metadata": {},
   "source": [
    "Q.8 Create a Python program that uses multiprocessing.Pool to compute the square of numbers from 1 to 10 in parallel. Measure the time taken to perform this computation using a pool of different sizes (e.g., 2, 4, 8 processes)."
   ]
  },
  {
   "cell_type": "code",
   "execution_count": 2,
   "id": "1a7e50ae-d8de-4953-8dcc-82992c3386cc",
   "metadata": {},
   "outputs": [
    {
     "name": "stdout",
     "output_type": "stream",
     "text": [
      "\n",
      "Using pool size: 2\n",
      "Results: [1, 4, 9, 16, 25, 36, 49, 64, 81, 100]\n",
      "Time taken: 0.0256 seconds\n",
      "\n",
      "Using pool size: 4\n",
      "Results: [1, 4, 9, 16, 25, 36, 49, 64, 81, 100]\n",
      "Time taken: 0.0348 seconds\n",
      "\n",
      "Using pool size: 8\n",
      "Results: [1, 4, 9, 16, 25, 36, 49, 64, 81, 100]\n",
      "Time taken: 0.0606 seconds\n"
     ]
    }
   ],
   "source": [
    "import multiprocessing\n",
    "import time\n",
    "\n",
    "# Function to compute the square of a given number\n",
    "def compute_square(n):\n",
    "    return n * n\n",
    "\n",
    "# List of numbers to compute squares for\n",
    "numbers = list(range(1, 11))\n",
    "\n",
    "# Function to calculate squares using a pool of a given size\n",
    "def compute_with_pool(pool_size):\n",
    "    print(f\"\\nUsing pool size: {pool_size}\")\n",
    "    \n",
    "    # Record the start time\n",
    "    start_time = time.time()\n",
    "    \n",
    "    # Create a Pool with pool_size processes\n",
    "    with multiprocessing.Pool(pool_size) as pool:\n",
    "        results = pool.map(compute_square, numbers)\n",
    "    \n",
    "    # Record the end time\n",
    "    end_time = time.time()\n",
    "    \n",
    "    # Print the results and the time taken\n",
    "    print(f\"Results: {results}\")\n",
    "    print(f\"Time taken: {end_time - start_time:.4f} seconds\")\n",
    "\n",
    "# Test the program with different pool sizes\n",
    "if __name__ == \"__main__\":\n",
    "    for pool_size in [2, 4, 8]:\n",
    "        compute_with_pool(pool_size)\n",
    "\n",
    "        "
   ]
  },
  {
   "cell_type": "code",
   "execution_count": null,
   "id": "8217e741-2b0a-4f1b-a2ac-c91ef0805b21",
   "metadata": {},
   "outputs": [],
   "source": []
  }
 ],
 "metadata": {
  "kernelspec": {
   "display_name": "Python 3 (ipykernel)",
   "language": "python",
   "name": "python3"
  },
  "language_info": {
   "codemirror_mode": {
    "name": "ipython",
    "version": 3
   },
   "file_extension": ".py",
   "mimetype": "text/x-python",
   "name": "python",
   "nbconvert_exporter": "python",
   "pygments_lexer": "ipython3",
   "version": "3.10.8"
  }
 },
 "nbformat": 4,
 "nbformat_minor": 5
}
