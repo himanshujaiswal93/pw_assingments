{
  "nbformat": 4,
  "nbformat_minor": 0,
  "metadata": {
    "colab": {
      "provenance": [],
      "toc_visible": true
    },
    "kernelspec": {
      "name": "python3",
      "display_name": "Python 3"
    },
    "language_info": {
      "name": "python"
    }
  },
  "cells": [
    {
      "cell_type": "code",
      "execution_count": null,
      "metadata": {
        "id": "EJgd4vv0S-HL"
      },
      "outputs": [],
      "source": []
    },
    {
      "cell_type": "markdown",
      "source": [
        "Q.1 **Define the z-statistic and explain its relationship to the standard normal distribution. How is the\n",
        "z-statistic used in hypothesis testing?**\n",
        "\n",
        "he z-statistic is a measure used in statistics to describe how many standard deviations a data point or sample statistic is from the population mean. It is commonly used in hypothesis testing, particularly when the population standard deviation is known or when the sample size is large enough to approximate normality.\n",
        "\n"
      ],
      "metadata": {
        "id": "Bz0CUcqrTNIE"
      }
    },
    {
      "cell_type": "markdown",
      "source": [
        "Q.2 **What is a p-value, and how is it used in hypothesis testing? What does it mean if the p-value is\n",
        "very small (e.g., 0.01)?**\n",
        "\n",
        "\n",
        "The p-value (short for \"probability value\") is a key concept in hypothesis testing that helps determine the strength of the evidence against the null hypothesis.\n",
        "\n",
        "What Does it Mean if the P-Value is Very Small (e.g., 0.01)?\n",
        "If the p-value is very small (e.g., 0.01), it means that the observed data (or something more extreme) is highly"
      ],
      "metadata": {
        "id": "p9cwQ0lGUbf9"
      }
    },
    {
      "cell_type": "markdown",
      "source": [
        "Q.3 **Compare and contrast the binomial and Bernoulli distributions.**\n",
        "\n",
        "**BINOMIAL**\n",
        "The binomial distribution and the Bernoulli distribution are both discrete probability distributions that model outcomes of random experiments, but they differ in terms of the number of trials and the nature of the events they describe\n",
        "\n",
        "**Bernoulli Distribution**\n",
        "Definition: The Bernoulli distribution is a special case of the binomial distribution where there is only one trial.\n",
        "Parameters: The Bernoulli distribution has one parameter\n",
        "p\n",
        "p, which is the probability of success (i.e., the probability that the event of interest occurs in a single trial). The probability of failure is  1-p.\n"
      ],
      "metadata": {
        "id": "cnJ6b43GU88J"
      }
    },
    {
      "cell_type": "markdown",
      "source": [
        "Q.4 **Under what conditions is the binomial distribution used, and how does it relate to the Bernoulli\n",
        "distribution?**\n",
        "\n",
        "Fixed Number of Trials: There must be a fixed number of independent trials (denoted as n),\n",
        "where each trial is identical in nature.\n",
        "\n",
        "Two Possible Outcomes: Each trial must result in one of two possible outcomes, often referred to as \"success\" and \"failure.\" These outcomes are mutually exclusive.\n"
      ],
      "metadata": {
        "id": "t9KAYmBFVbwc"
      }
    },
    {
      "cell_type": "markdown",
      "source": [
        "Q.5 **What are the key properties of the Poisson distribution, and when is it appropriate to use this\n",
        "distribution?**\n",
        "\n",
        "The Poisson distribution is a discrete probability distribution that models the number of events occurring within a fixed interval of time, distance, area, or volume, given that these events occur independently of each other and at a constant average rate.\n",
        "\n",
        "**KEY PROPERTIES**\n",
        "Discrete Random Variable:\n",
        "Parameter (Rate of Occurrence):\n",
        "Probability Mass Function (PMF)\n",
        "Mean = Variance:\n"
      ],
      "metadata": {
        "id": "waiYgtxKV-fD"
      }
    },
    {
      "cell_type": "markdown",
      "source": [
        "Q.6\n",
        "\n",
        "\n",
        "**PROBABILITY**\n",
        " A probability distribution is a function or rule that provides the probabilities of all possible outcomes of a random experiment or random variable.\n",
        "\n",
        " **TYPES OF PROBABILITY**\n",
        "1 Discrete Probability Distribution: For discrete random variables\n",
        "\n",
        "2 Continuous Probability Distribution: For continuous random variables\n",
        "\n",
        "\n",
        "**Probability Density Function (PDF)**\n",
        "A probability density function (PDF) is used to describe the probability distribution of a continuous random variable. The PDF gives the relative likelihood that a continuous random variable takes on a particular value within a given range.\n"
      ],
      "metadata": {
        "id": "E-MuCucEWqCO"
      }
    },
    {
      "cell_type": "markdown",
      "source": [
        "Q.7**Explain the Central Limit Theorem (CLT) with example.**\n",
        "\\\n",
        "The Central Limit Theorem (CLT) is one of the most important and powerful concepts in probability theory and statistics."
      ],
      "metadata": {
        "id": "BbCQWXuTXi8Y"
      }
    },
    {
      "cell_type": "markdown",
      "source": [
        "Q.8 **Compare z-scores and t-scores. When should you use a z-score, and when should a t-score be applied instead?**\n",
        "\n",
        "**Z-Score**\n",
        "\n",
        "A z-score (or standard score) represents how many standard deviations a data point (or sample statistic) is away from the mean of a population. It is used when the population variance or standard deviation is known.\n",
        "\n",
        "**T-Score**\n",
        "\n",
        "A t-score is used when the sample size is small (typically n<30)  and the population standard deviation is unknown. The t-score is based on the t-distribution, which is similar to the standard normal distribution but with heavier tails. This accounts for the increased variability that comes with smaller sample sizes.\n"
      ],
      "metadata": {
        "id": "Hsfi5DG3Xw7-"
      }
    },
    {
      "cell_type": "markdown",
      "source": [
        "Q.9 Given a sample mean of 105, a population mean of 100, a standard deviation of 15, and a sample\n",
        "size of 25, calculate the z-score and p-value. Based on a significance level of 0.05, do you reject or fail to\n",
        "reject the null hypothesis?\n",
        "\n",
        " Task: Write Python code to calculate the z-score and p-value for the given data.\n",
        "\n",
        "Objective: Apply the formula for the z-score and interpret the p-value for hypothesis testing."
      ],
      "metadata": {
        "id": "A733H644YX0u"
      }
    },
    {
      "cell_type": "code",
      "source": [
        "import scipy.stats as stats\n",
        "import math\n",
        "\n",
        "# Given data\n",
        "sample_mean = 105\n",
        "population_mean = 100\n",
        "population_std_dev = 15\n",
        "sample_size = 25\n",
        "alpha = 0.05  # significance level\n",
        "\n",
        "# Calculate the z-score\n",
        "z_score = (sample_mean - population_mean) / (population_std_dev / math.sqrt(sample_size))\n",
        "\n",
        "# Calculate the p-value for a two-tailed test\n",
        "# For a two-tailed test, we calculate the probability of getting a z-score more extreme than the observed z-score.\n",
        "p_value = 2 * (1 - stats.norm.cdf(abs(z_score)))\n",
        "\n",
        "# Output the results\n",
        "print(f\"Z-score: {z_score}\")\n",
        "print(f\"P-value: {p_value}\")\n",
        "\n",
        "# Decision based on the p-value and significance level\n",
        "if p_value < alpha:\n",
        "    print(\"Reject the null hypothesis.\")\n",
        "else:\n",
        "    print(\"Fail to reject the null hypothesis.\")\n"
      ],
      "metadata": {
        "colab": {
          "base_uri": "https://localhost:8080/"
        },
        "id": "trEBIAITYhi4",
        "outputId": "586bc2e9-4667-4f56-adea-18903afff028"
      },
      "execution_count": 1,
      "outputs": [
        {
          "output_type": "stream",
          "name": "stdout",
          "text": [
            "Z-score: 1.6666666666666667\n",
            "P-value: 0.09558070454562939\n",
            "Fail to reject the null hypothesis.\n"
          ]
        }
      ]
    },
    {
      "cell_type": "markdown",
      "source": [
        "Q.10  Simulate a binomial distribution with 10 trials and a probability of success of 0.6 using Python.\n",
        "Generate 1,000 samples and plot the distribution. What is the expected mean and variance?\n",
        "\n",
        "Task: Use Python to generate the data, plot the distribution, and calculate the mean and variance.\n",
        "\n",
        "Objective: Understand the properties of a binomial distribution and verify them through simulation"
      ],
      "metadata": {
        "id": "7DOF5WadY6l-"
      }
    },
    {
      "cell_type": "code",
      "source": [
        "import numpy as np\n",
        "import matplotlib.pyplot as plt\n",
        "\n",
        "# Parameters\n",
        "n_trials = 10  # number of trials\n",
        "p_success = 0.6  # probability of success\n",
        "n_samples = 1000  # number of samples\n",
        "\n",
        "# Simulate binomial distribution\n",
        "binomial_samples = np.random.binomial(n_trials, p_success, n_samples)\n",
        "\n",
        "# Plot the distribution (histogram)\n",
        "plt.figure(figsize=(10, 6))\n",
        "plt.hist(binomial_samples, bins=np.arange(-0.5, n_trials+1.5, 1), density=True, alpha=0.75, color='skyblue', edgecolor='black')\n",
        "plt.title('Simulated Binomial Distribution (n=10, p=0.6)', fontsize=16)\n",
        "plt.xlabel('Number of Successes', fontsize=12)\n",
        "plt.ylabel('Probability Density', fontsize=12)\n",
        "plt.xticks(range(n_trials + 1))  # Ensure bins are correctly labeled (0 to 10)\n",
        "plt.grid(True)\n",
        "plt.show()\n",
        "\n",
        "# Calculate the mean and variance of the simulated data\n",
        "simulated_mean = np.mean(binomial_samples)\n",
        "simulated_variance = np.var(binomial_samples)\n",
        "\n",
        "# Print the results\n",
        "print(f\"Simulated Mean: {simulated_mean}\")\n",
        "print(f\"Simulated Variance: {simulated_variance}\")\n",
        "\n",
        "# Calculate theoretical mean and variance\n",
        "theoretical_mean = n_trials * p_success\n",
        "theoretical_variance = n_trials * p_success * (1 - p_success)\n",
        "\n",
        "print(f\"Theoretical Mean: {theoretical_mean}\")\n",
        "print(f\"Theoretical Variance: {theoretical_variance}\")\n"
      ],
      "metadata": {
        "colab": {
          "base_uri": "https://localhost:8080/",
          "height": 641
        },
        "id": "Z_e9XZhtYr4I",
        "outputId": "315f27d7-f7ac-4085-f95c-d8f2c3fe8de9"
      },
      "execution_count": 2,
      "outputs": [
        {
          "output_type": "display_data",
          "data": {
            "text/plain": [
              "<Figure size 1000x600 with 1 Axes>"
            ],
            "image/png": "[encoded data removed]"
          },
          "metadata": {}
        },
        {
          "output_type": "stream",
          "name": "stdout",
          "text": [
            "Simulated Mean: 6.088\n",
            "Simulated Variance: 2.356256\n",
            "Theoretical Mean: 6.0\n",
            "Theoretical Variance: 2.4000000000000004\n"
          ]
        }
      ]
    },
    {
      "cell_type": "markdown",
      "source": [
        "**THANKYOU**"
      ],
      "metadata": {
        "id": "saFaxHh9Y5eB"
      }
    },
    {
      "cell_type": "code",
      "source": [],
      "metadata": {
        "id": "-x-UhrF8ZWtT"
      },
      "execution_count": null,
      "outputs": []
    }
  ]
}