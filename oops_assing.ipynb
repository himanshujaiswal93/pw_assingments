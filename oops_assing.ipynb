{
 "cells": [
  {
   "cell_type": "markdown",
   "id": "785b1861-e24c-4e30-a5cf-3d6a7212f1c0",
   "metadata": {},
   "source": [
    "Q>1  What are the five key concepts of Object-Oriented Programming (OOP)?\n",
    "\n",
    "\n",
    "Ans => five key concept of oops\n",
    "1. class\n",
    "2. abstraction\n",
    "3. inhertence\n",
    "4. polymorephism\n",
    "5. incapuslation"
   ]
  },
  {
   "cell_type": "markdown",
   "id": "ca9196fd-af78-4216-8a1d-ef5e5cdcafcf",
   "metadata": {},
   "source": [
    "q.2  Write a Python class for a `Car` with attributes for `make`, `model`, and `year`. Include a method to display the car's information.\n",
    "\n"
   ]
  },
  {
   "cell_type": "code",
   "execution_count": 5,
   "id": "96fcd6ad-0922-4ac6-99ab-ffcf39ce821b",
   "metadata": {},
   "outputs": [
    {
     "name": "stdout",
     "output_type": "stream",
     "text": [
      "2024 Mahendra Scorpio\n"
     ]
    }
   ],
   "source": [
    " class Car:\n",
    "    def __init__(self, make, model, year):\n",
    "        \n",
    "        self.make = make\n",
    "        self.model = model\n",
    "        self.year = year\n",
    "\n",
    "    def display_info(self):\n",
    "         \n",
    "        infor = f\"{self.year} {self.make} {self.model}\"\n",
    "        print(infor)\n",
    "\n",
    "# Example usage:\n",
    "my_car = Car(\"Mahendra\", \"Scorpio\", 2024)\n",
    "my_car.display_info() \n",
    "\n"
   ]
  },
  {
   "cell_type": "markdown",
   "id": "46a6acd7-d239-4b31-b09c-fd6492b3c9d4",
   "metadata": {},
   "source": [
    "Q.3 Explain the difference between instance methods and class methods. Provide an example of each.\n",
    "\n",
    "\n"
   ]
  },
  {
   "cell_type": "markdown",
   "id": "07a14591-f267-48b4-bf5b-da3a1883ed1e",
   "metadata": {},
   "source": [
    "ans=> Instance methods are functions defined inside a class that operate on instances of that class. They take self as their first parameter, which refers to the instance calling the method."
   ]
  },
  {
   "cell_type": "markdown",
   "id": "b592e3e9-7a7e-434e-9db6-15ae327c6261",
   "metadata": {},
   "source": [
    "  # class method\n",
    "Class methods are functions defined inside a class that operate on the class itself rather than on instances of the class. They take cls as their first parameter, which refers to the class itself. Class methods are marked with the @classmethod decorator."
   ]
  },
  {
   "cell_type": "code",
   "execution_count": 8,
   "id": "6a0340d1-3812-41e5-b8e6-2b4ab00e74a7",
   "metadata": {},
   "outputs": [
    {
     "name": "stdout",
     "output_type": "stream",
     "text": [
      "2020 Toyota Corolla\n"
     ]
    }
   ],
   "source": [
    "# example of instance method\n",
    "class Car:\n",
    "    def __init__(self, make, model, year):\n",
    "        self.make = make\n",
    "        self.model = model\n",
    "        self.year = year\n",
    "\n",
    "    def display_info(self):\n",
    "        # Instance method\n",
    "        info = f\"{self.year} {self.make} {self.model}\"\n",
    "        print(info)\n",
    "\n",
    "# Create an instance of Car\n",
    "my_car = Car(\"Toyota\", \"Corolla\", 2020)\n",
    "my_car.display_info()  # Output: 2020 Toyota Corolla\n"
   ]
  },
  {
   "cell_type": "code",
   "execution_count": 9,
   "id": "a2801721-eb68-4806-9b30-2c37136eca3c",
   "metadata": {},
   "outputs": [
    {
     "name": "stdout",
     "output_type": "stream",
     "text": [
      "2024 Default Make Default Model\n"
     ]
    }
   ],
   "source": [
    "# example of class method\n",
    "class Car:\n",
    "    number_of_wheels = 4  # Class attribute\n",
    "\n",
    "    def __init__(self, make, model, year):\n",
    "        self.make = make\n",
    "        self.model = model\n",
    "        self.year = year\n",
    "\n",
    "    @classmethod\n",
    "    def default_car(cls):\n",
    "        # Class method\n",
    "        return cls(\"Default Make\", \"Default Model\", 2024)\n",
    "\n",
    "    def display_info(self):\n",
    "        # Instance method\n",
    "        info = f\"{self.year} {self.make} {self.model}\"\n",
    "        print(info)\n",
    "\n",
    "# Use the class method to create a new Car instance\n",
    "default_car = Car.default_car()\n",
    "default_car.display_info()  \n",
    "\n"
   ]
  },
  {
   "cell_type": "markdown",
   "id": "145ba340-55db-4e0c-a507-1737ce907d29",
   "metadata": {},
   "source": [
    "Q. 4 How does Python implement method overloading? Give an example.\n",
    "\n"
   ]
  },
  {
   "cell_type": "markdown",
   "id": "4da791ef-f087-4614-84d3-15176185050f",
   "metadata": {},
   "source": [
    "Ans=> Python uses default arguments, variable-length arguments, or conditional logic within a single method to handle different use cases. This approach effectively achieves a form of method overloading.\n",
    "\n"
   ]
  },
  {
   "cell_type": "code",
   "execution_count": 10,
   "id": "a34c6c17-2b70-457a-9670-15f256b16f5c",
   "metadata": {},
   "outputs": [
    {
     "name": "stdout",
     "output_type": "stream",
     "text": [
      "5\n",
      "9\n"
     ]
    }
   ],
   "source": [
    "class Calculator:\n",
    "    def add(self, a, b, c=0):\n",
    "        return a + b + c\n",
    "\n",
    "calc = Calculator()\n",
    "print(calc.add(2, 3))        \n",
    "print(calc.add(2, 3, 4))     \n"
   ]
  },
  {
   "cell_type": "markdown",
   "id": "e67b71dc-88cd-44b9-aeb5-a81c079d8e55",
   "metadata": {},
   "source": [
    "Q.5 What are the three types of access modifiers in Python? How are they denoted?\n",
    "\n",
    "\n",
    "\n"
   ]
  },
  {
   "cell_type": "markdown",
   "id": "56666f68-c2e5-4901-8381-790acef10d9c",
   "metadata": {},
   "source": [
    "#Public:-\n",
    "\n",
    "Public members (attributes and methods) are accessible from outside the class. There are no restrictions on accessing these members\n",
    "\n",
    "#Protected:-\n",
    "\n",
    "Protected members are intended to be accessible only within the class and its subclasses. Python does not enforce this access level, but it is a convention used to indicate that these members should not be a herchy\n",
    "\n",
    "#Private:- \n",
    "\n",
    "Private members are intended to be accessible only within the class that defines them. They are not meant to be accessed from outside the class or even from subclasses. Python uses name mangling to achieve this, which makes it harder (but not impossible) to access these members.\n",
    "\n"
   ]
  },
  {
   "cell_type": "markdown",
   "id": "7ec2f0d3-7634-4258-b192-ab0ca0ea1966",
   "metadata": {},
   "source": [
    "Q.6  Describe the five types of inheritance in Python. Provide a simple example of multiple inheritance.\n",
    "\n",
    "\n"
   ]
  },
  {
   "cell_type": "markdown",
   "id": "86ad20d9-a8a5-449d-bc51-d9b5e60f41a0",
   "metadata": {},
   "source": [
    "Ans=> # single inhertence\n",
    "\n",
    "In single inheritance, a subclass inherits from only one superclass. This is the simplest form of inheritance.\n",
    "\n",
    "# multiple\n",
    "   \n",
    "In multiple inheritance, a subclass inherits from more than one superclass. This allows the subclass to combine features from multiple parent classes.\n",
    "\n",
    " # multilevel\n",
    " \n",
    " an multilevel inheritance, a subclass inherits from a superclass, which itself is a subclass of another superclass, forming a chain of inheritance.\n",
    "\n",
    " # Hierarchical\n",
    " \n",
    " In hierarchical inheritance, multiple subclasses inherit from a single superclass. This allows different subclasses to share common behavior defined in the superclass.\n",
    "\n",
    "\n",
    "# hybrid inhertence\n",
    "\n",
    "Hybrid inheritance is a combination of two or more types of inheritance. It is a complex form of inheritance where a class can inherit from multiple types of class hierarchies."
   ]
  },
  {
   "cell_type": "markdown",
   "id": "df6cd13f-d314-4eb2-9b43-5ad209cc4354",
   "metadata": {},
   "source": [
    "\n",
    "Q.7. What is the Method Resolution Order (MRO) in Python? How can you retrieve it programmatically?\n",
    "\n"
   ]
  },
  {
   "cell_type": "markdown",
   "id": "b573c4d7-0050-4673-a810-693d28fb9df1",
   "metadata": {},
   "source": [
    "Ans=> \n",
    "The Method Resolution Order (MRO) in Python determines the order in which base classes are looked up when searching for a method or attribute in a class hierarchy. This order is particularly important in the context of multiple inheritance, where a class can inherit from multiple parent classes, potentially causing ambiguity about which parent class's method should be used."
   ]
  },
  {
   "cell_type": "markdown",
   "id": "0fd319b6-c0bd-4d80-acc8-426e4fb7b357",
   "metadata": {},
   "source": [
    "Q.8 Create an abstract base class `Shape` with an abstract method `area()`. Then create two subclasses `Circle` and `Rectangle` that implement the `area()` method.\n",
    "\n"
   ]
  },
  {
   "cell_type": "code",
   "execution_count": 12,
   "id": "5d1ff667-75ed-4cbf-bfbf-ff3ac63e94db",
   "metadata": {},
   "outputs": [
    {
     "name": "stdout",
     "output_type": "stream",
     "text": [
      "Circle area: 78.53981633974483\n",
      "Rectangle area: 24\n"
     ]
    }
   ],
   "source": [
    "from abc import ABC, abstractmethod\n",
    "import math\n",
    "\n",
    "# Define the abstract base class\n",
    "class Shape(ABC):\n",
    "    @abstractmethod\n",
    "    def area(self):\n",
    "        pass\n",
    "\n",
    "# Define the Circle class inheriting from Shape\n",
    "class Circle(Shape):\n",
    "    def __init__(self, radius):\n",
    "        self.radius = radius\n",
    "\n",
    "    def area(self):\n",
    "       \n",
    "        return math.pi * (self.radius ** 2)\n",
    "\n",
    "# Define the Rectangle class inheriting from Shape\n",
    "class Rectangle(Shape):\n",
    "    def __init__(self, width, height):\n",
    "        self.width = width\n",
    "        self.height = height\n",
    "\n",
    "    def area(self):\n",
    "       \n",
    "        \n",
    "        return self.width * self.height\n",
    "\n",
    "# Example usage:\n",
    "circle = Circle(5)\n",
    "rectangle = Rectangle(4, 6)\n",
    "\n",
    "print(f\"Circle area: {circle.area()}\")      \n",
    "print(f\"Rectangle area: {rectangle.area()}\") \n",
    "\n"
   ]
  },
  {
   "cell_type": "markdown",
   "id": "784957c2-3cdd-47ab-842d-417bcdbd6db0",
   "metadata": {},
   "source": [
    "Q.9 Demonstrate polymorphism by creating a function that can work with different shape objects to calculate and print their areas.\n",
    "\n"
   ]
  },
  {
   "cell_type": "code",
   "execution_count": 13,
   "id": "b78affe6-6930-4558-afce-3a940a7aa9aa",
   "metadata": {},
   "outputs": [
    {
     "name": "stdout",
     "output_type": "stream",
     "text": [
      "The area of the shape is: 78.53981633974483\n",
      "The area of the shape is: 24\n"
     ]
    }
   ],
   "source": [
    "from abc import ABC, abstractmethod\n",
    "import math\n",
    "\n",
    "# Define the abstract base class\n",
    "class Shape(ABC):\n",
    "    @abstractmethod\n",
    "    def area(self):\n",
    "       \n",
    "        pass\n",
    "\n",
    "# Define the Circle class inheriting from Shape\n",
    "class Circle(Shape):\n",
    "    def __init__(self, radius):\n",
    "        self.radius = radius\n",
    "\n",
    "    def area(self):\n",
    "        return math.pi * (self.radius ** 2)\n",
    "\n",
    "# Define the Rectangle class inheriting from Shape\n",
    "class Rectangle(Shape):\n",
    "    def __init__(self, width, height):\n",
    "        self.width = width\n",
    "        self.height = height\n",
    "\n",
    "    def area(self):\n",
    "        return self.width * self.height\n",
    "\n",
    "def print_area(shape):\n",
    "  \n",
    "    if isinstance(shape, Shape):\n",
    "        print(f\"The area of the shape is: {shape.area()}\")\n",
    "    else:\n",
    "        print(\"The provided object is not a Shape.\")\n",
    "\n",
    "# Example usage:\n",
    "circle = Circle(5)\n",
    "rectangle = Rectangle(4, 6)\n",
    "\n",
    "\n",
    "print_area(circle)     \n",
    "print_area(rectangle)  \n"
   ]
  },
  {
   "cell_type": "markdown",
   "id": "43c6573a-7e48-4493-9e90-6726b608e11b",
   "metadata": {},
   "source": [
    "Q.10 Implement encapsulation in a `BankAccount` class with private attributes for `balance` and `account_number`. Include methods for deposit, withdrawal, and balance inquiry.\n",
    "\n",
    "\n",
    "\n"
   ]
  },
  {
   "cell_type": "code",
   "execution_count": 27,
   "id": "43f52b91-1fc3-4296-bc7b-b1312b25fa82",
   "metadata": {},
   "outputs": [
    {
     "name": "stdout",
     "output_type": "stream",
     "text": [
      "Account Number: 123456789\n",
      "Initial Balance: $1000\n",
      "Deposited $500. New balance is $1500.\n",
      "Final Balance: $1500\n"
     ]
    }
   ],
   "source": [
    "class BankAccount:\n",
    "    def __init__(self, account_number, initial_balance=0):\n",
    "        \n",
    "        self.__account_number = account_number\n",
    "        self.__balance = initial_balance\n",
    "\n",
    "    def deposit(self, amount):\n",
    "       \n",
    "        if amount > 0:\n",
    "            self.__balance += amount\n",
    "            print(f\"Deposited ${amount}. New balance is ${self.__balance}.\")\n",
    "        else:\n",
    "            print(\"Deposit amount must be positive.\")\n",
    "\n",
    "    def withdraw(self, amount):\n",
    "   \n",
    "        \n",
    "        if amount > 0:\n",
    "            if amount <= self.__balance:\n",
    "                self.__balance -= amount\n",
    "                print(f\"Withdrew ${amount}. New balance is ${self.__balance}.\")\n",
    "            else:\n",
    "                print(\"Insufficient funds.\")\n",
    "        else:\n",
    "            print(\"Withdrawal amount must be positive.\")\n",
    "\n",
    "    def get_balance(self):\n",
    "      \n",
    "        return self.__balance\n",
    "\n",
    "    def get_account_number(self):\n",
    "      \n",
    "        return self.__account_number\n",
    "\n",
    "# Example usage:\n",
    "account = BankAccount(\"123456789\", 1000)\n",
    "\n",
    "print(f\"Account Number: {account.get_account_number()}\")  \n",
    "print(f\"Initial Balance: ${account.get_balance()}\")\n",
    "account.deposit(500)\n",
    "print(f\"Final Balance: ${account.get_balance()}\")       \n",
    "\n",
    "\n"
   ]
  },
  {
   "cell_type": "markdown",
   "id": "e68398c2-fe65-482b-b338-da0ed4a09d8d",
   "metadata": {},
   "source": [
    "Q.11 Write a class that overrides the `__str__` and `__add__` magic methods. What will these methods allow you to do?\n",
    "\n"
   ]
  },
  {
   "cell_type": "code",
   "execution_count": 28,
   "id": "6f2cab76-88a9-4072-a12e-fcd50493d2c9",
   "metadata": {},
   "outputs": [
    {
     "name": "stdout",
     "output_type": "stream",
     "text": [
      "CustomNumber: 10\n",
      "CustomNumber: 25\n",
      "CustomNumber: 15\n"
     ]
    }
   ],
   "source": [
    "class CustomNumber:\n",
    "    def __init__(self, value):\n",
    "        self.value = value\n",
    "\n",
    "    # Override the __str__ method\n",
    "    def __str__(self):\n",
    "        return f\"CustomNumber: {self.value}\"\n",
    "\n",
    "   \n",
    "\n",
    "    def __add__(self, other):\n",
    "        if isinstance(other, CustomNumber):\n",
    "            return CustomNumber(self.value + other.value)\n",
    "        else:\n",
    "            return CustomNumber(self.value + other)\n",
    "\n",
    "# Example usage\n",
    "num1 = CustomNumber(10)\n",
    "num2 = CustomNumber(15)\n",
    "\n",
    "# Demonstrating __str__\n",
    "print(num1)  \n",
    "# Demonstrating __add__\n",
    "result = num1 + num2\n",
    "print(result)  \n",
    "\n",
    "\n",
    "result2 = num1 + 5\n",
    "print(result2)  \n"
   ]
  },
  {
   "cell_type": "markdown",
   "id": "1992b87e-50b1-4987-9515-f819ff3732ba",
   "metadata": {},
   "source": [
    "Q.11 Create a decorator that measures and prints the execution time of a function"
   ]
  },
  {
   "cell_type": "markdown",
   "id": "6b85e736-115a-4464-bb2f-fc50db56f5c9",
   "metadata": {},
   "source": [
    "Q.13 Explain the concept of the Diamond Problem in multiple inheritance. How does Python resolve it?\n",
    "\n"
   ]
  },
  {
   "cell_type": "code",
   "execution_count": 33,
   "id": "553b2aac-964f-4e9b-a01a-4a1717900778",
   "metadata": {},
   "outputs": [
    {
     "name": "stdout",
     "output_type": "stream",
     "text": [
      "Hello from B\n"
     ]
    }
   ],
   "source": [
    "class A:\n",
    "    def greet(self):\n",
    "        print(\"Hello from A\")\n",
    "\n",
    "class B(A):\n",
    "    def greet(self):\n",
    "        print(\"Hello from B\")\n",
    "\n",
    "class C(A):\n",
    "    def greet(self):\n",
    "        print(\"Hello from C\")\n",
    "\n",
    "class D(B, C):\n",
    "    pass\n",
    "\n",
    "d = D()\n",
    "d.greet()  \n"
   ]
  },
  {
   "cell_type": "markdown",
   "id": "cbdb3ddd-6114-4484-8f87-597cdcc278a1",
   "metadata": {},
   "source": [
    "Q.14 Write a class method that keeps track of the number of instances created from a class.\n",
    "\n"
   ]
  },
  {
   "cell_type": "code",
   "execution_count": 35,
   "id": "976cd456-3387-4847-b1c1-8107765f2bea",
   "metadata": {},
   "outputs": [
    {
     "name": "stdout",
     "output_type": "stream",
     "text": [
      "3\n"
     ]
    }
   ],
   "source": [
    "class InstanceCounter:\n",
    "    instance_count = 0  # Class attribute to keep track of instances\n",
    "\n",
    "    def __init__(self):\n",
    "        InstanceCounter.instance_count += 1  \n",
    "\n",
    "    @classmethod\n",
    "    def get_instance_count(cls):\n",
    "        return cls.instance_count  \n",
    "\n",
    "# Example usage\n",
    "obj1 = InstanceCounter()\n",
    "obj2 = InstanceCounter()\n",
    "obj3 = InstanceCounter()\n",
    "\n",
    "# Retrieve the number of instances created\n",
    "print(InstanceCounter.get_instance_count())  "
   ]
  },
  {
   "cell_type": "markdown",
   "id": "bee66962-ec68-4271-9c59-982269dee734",
   "metadata": {},
   "source": [
    "Q.15 Implement a static method in a class that checks if a given year is a leap year.\n"
   ]
  },
  {
   "cell_type": "code",
   "execution_count": 36,
   "id": "500773b9-221e-4e29-9e15-8d33f8c103c6",
   "metadata": {},
   "outputs": [
    {
     "name": "stdout",
     "output_type": "stream",
     "text": [
      "True\n",
      "False\n",
      "True\n"
     ]
    }
   ],
   "source": [
    "class YearUtils:\n",
    "    @staticmethod\n",
    "    def is_leap_year(year):\n",
    "        if (year % 4 == 0 and year % 100 != 0) or (year % 400 == 0):\n",
    "            return True\n",
    "        return False\n",
    "\n",
    "# Example usage\n",
    "print(YearUtils.is_leap_year(2020))  \n",
    "print(YearUtils.is_leap_year(1900)) \n",
    "print(YearUtils.is_leap_year(2000))  \n",
    "\n"
   ]
  },
  {
   "cell_type": "code",
   "execution_count": null,
   "id": "ce19eed7-93c9-405d-af8c-5eb102102e32",
   "metadata": {},
   "outputs": [],
   "source": []
  }
 ],
 "metadata": {
  "kernelspec": {
   "display_name": "Python 3 (ipykernel)",
   "language": "python",
   "name": "python3"
  },
  "language_info": {
   "codemirror_mode": {
    "name": "ipython",
    "version": 3
   },
   "file_extension": ".py",
   "mimetype": "text/x-python",
   "name": "python",
   "nbconvert_exporter": "python",
   "pygments_lexer": "ipython3",
   "version": "3.10.8"
  }
 },
 "nbformat": 4,
 "nbformat_minor": 5
}
