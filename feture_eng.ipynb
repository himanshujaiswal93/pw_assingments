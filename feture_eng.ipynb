{
 "cells": [
  {
   "cell_type": "markdown",
   "metadata": {},
   "source": [
    "Q.1 What is a parameter?\n",
    "\n",
    "A parameter is a variable in a mathematical model or algorithm that is learned from data during training. In machine learning, parameters define the model’s structure and behavior (e.g., weights in linear regression or deep learning)."
   ]
  },
  {
   "cell_type": "markdown",
   "metadata": {},
   "source": [
    "Q.2 What is correlation?\n",
    "\n",
    "Correlation measures the strength and direction of a linear relationship between two variables. It is represented by the correlation coefficient (r), which ranges from -1 to 1"
   ]
  },
  {
   "cell_type": "markdown",
   "metadata": {},
   "source": [
    "Q.3  What does negative correlation mean?\n",
    "\n",
    "A negative correlation means that as one variable increases, the other decreases. Example: Temperature and Hot Chocolate Sales (as temperature rises, hot chocolate sales decrease)"
   ]
  },
  {
   "cell_type": "markdown",
   "metadata": {},
   "source": [
    "Q.4 Define Machine Learning. What are the main components in Machine Learning?\n",
    "\n",
    "Machine Learning (ML) is a subset of artificial intelligence where computers learn patterns from data to make predictions or decisions without being explicitly programmed.\n",
    "\n",
    "Main components of ML:\n",
    "\n",
    "Data – The dataset used for training.\n",
    "\n",
    "Model – The algorithm used for learning patterns.\n",
    "\n",
    "Loss Function – Measures how well the model is performing.\n",
    "\n",
    "Optimizer – Adjusts model parameters to reduce loss.\n",
    "\n",
    "Evaluation Metrics – Used to assess model performance."
   ]
  },
  {
   "cell_type": "markdown",
   "metadata": {},
   "source": [
    "Q.5 How does loss value help in determining whether the model is good or not?\n",
    "\n",
    "The loss value indicates how far the model's predictions are from the actual values.\n",
    "\n",
    "High loss → Poor model performance.\n",
    "\n",
    "Low loss → Better model performance.\n",
    "\n",
    "If loss is not reducing, it means the model is not learning well."
   ]
  },
  {
   "cell_type": "markdown",
   "metadata": {},
   "source": [
    "Q.6 What are continuous and categorical variables?\n",
    "\n",
    "Continuous Variables: Numeric variables that have an infinite number of possible values (e.g., height, weight, temperature).\n",
    "\n",
    "Categorical Variables: Variables that represent categories or labels (e.g., colors, gender, country). "
   ]
  },
  {
   "cell_type": "markdown",
   "metadata": {},
   "source": [
    "Q.7  How do we handle categorical variables in Machine Learning? What are the common techniques?\n",
    "\n",
    "Common techniques for handling categorical variables:\n",
    "\n",
    "Label Encoding – Assigns unique integers to categories.\n",
    "One-Hot Encoding – Creates binary columns for each category.\n",
    "Ordinal Encoding – Assigns ordered integers to categories (e.g., Low=1, Medium=2, High=3).\n"
   ]
  },
  {
   "cell_type": "markdown",
   "metadata": {},
   "source": [
    "Q.8 What do you mean by training and testing a dataset?\n",
    "\n",
    "Training Dataset: The portion of data used to train the model.\n",
    "\n",
    "Testing Dataset: The portion of data used to evaluate the model's performance."
   ]
  },
  {
   "cell_type": "markdown",
   "metadata": {},
   "source": [
    "Q.9 What is sklearn.preprocessing?\n",
    "\n",
    "The sklearn.preprocessing module in scikit-learn provides tools for data preprocessing, such as:\n",
    "\n",
    "Scaling (StandardScaler, MinMaxScaler)\n",
    "\n",
    "Encoding (OneHotEncoder, LabelEncoder)\n",
    "\n",
    "Imputation (SimpleImputer)"
   ]
  },
  {
   "cell_type": "markdown",
   "metadata": {},
   "source": [
    "Q.10 What is a Test set?\n",
    "\n",
    "A test set is a separate portion of the dataset used to evaluate the trained model’s performance. It helps assess how well the model generalizes to unseen data"
   ]
  },
  {
   "cell_type": "markdown",
   "metadata": {},
   "source": [
    "Q.11 How do we split data for model fitting (training and testing) in Python?\n",
    "\n",
    "from sklearn.model_selection import train_test_split\n",
    "X_train, X_test, y_train, y_test = train_test_split(X, y, test_size=0.2, random_state=42)"
   ]
  },
  {
   "cell_type": "markdown",
   "metadata": {},
   "source": [
    "Q.12  How do you approach a Machine Learning problem?\n",
    "\n",
    "Understand the Problem – Define objectives and constraints.\n",
    "\n",
    "Collect Data – Gather relevant data.\n",
    "\n",
    "Preprocess Data – Handle missing values, scale, and encode features.\n",
    "\n",
    "EDA (Exploratory Data Analysis) – Identify patterns and relationships.\n",
    "\n",
    "Choose Model – Select a suitable ML model.\n",
    "\n",
    "Train Model – Fit the model to the training data.\n",
    "\n",
    "Evaluate Model – Use metrics like accuracy, RMSE, etc.\n",
    "\n",
    "Fine-tune Model – Optimize hyperparameters.\n",
    "\n",
    "Deploy Model – Implement the model in production."
   ]
  },
  {
   "cell_type": "markdown",
   "metadata": {},
   "source": [
    "Q.13  Why do we have to perform EDA before fitting a model to the data?\n",
    "\n",
    "Exploratory Data Analysis (EDA) helps:\n",
    "\n",
    "Identify missing values and outliers.\n",
    "Understand data distributions and relationships.\n",
    "Choose appropriate preprocessing techniques.\n",
    "Select the best ML algorithm for the problem."
   ]
  },
  {
   "cell_type": "markdown",
   "metadata": {},
   "source": [
    "Q.14 How can you find correlation between variables in Python?\n",
    "\n",
    "import pandas as pd\n",
    "correlation_matrix = df.corr()\n",
    "print(correlation_matrix)\n"
   ]
  },
  {
   "cell_type": "markdown",
   "metadata": {},
   "source": [
    "Q.15 What is causation? Explain difference between correlation and causation with an example.\n",
    "\n",
    "Correlation: A statistical relationship between two variables.\n",
    "\n",
    "Causation: One variable directly affects the other."
   ]
  },
  {
   "cell_type": "markdown",
   "metadata": {},
   "source": [
    "Q.16 What is an Optimizer? What are different types of optimizers? Explain each with an example.\n",
    "\n",
    "An optimizer adjusts model parameters to minimize loss.\n",
    "\n",
    "Types of Optimizers:\n",
    "\n",
    "Gradient Descent – Updates weights based on gradient.\n",
    "Stochastic Gradient Descent (SGD) – Uses one sample per iteration.\n",
    "Adam (Adaptive Moment Estimation) – Combines momentum and adaptive learning.\n",
    "RMSprop – Suitable for non-stationary data."
   ]
  },
  {
   "cell_type": "markdown",
   "metadata": {},
   "source": [
    "Q.17 What is sklearn.linear_model?\n",
    "\n",
    "The sklearn.linear_model module contains linear models like:\n",
    "\n",
    "LinearRegression – For regression tasks.\n",
    "LogisticRegression – For classification tasks."
   ]
  },
  {
   "cell_type": "markdown",
   "metadata": {},
   "source": [
    "Q.18  What does model.fit() do? What arguments must be given?\n",
    "\n",
    "model.fit() trains the model using the training data.\n",
    "\n",
    "model.fit(X_train, y_train)\n",
    "\n",
    "Arguments: X_train (features), y_train (target labels)."
   ]
  },
  {
   "cell_type": "markdown",
   "metadata": {},
   "source": [
    "Q.19 What does model.predict() do? What arguments must be given?\n",
    "\n",
    "model.predict() makes predictions on new data.\n",
    "\n",
    "y_pred = model.predict(X_test)\n",
    "Arguments: X_test (input features).\n"
   ]
  },
  {
   "cell_type": "markdown",
   "metadata": {},
   "source": [
    "Q.20 What is feature scaling? How does it help in Machine Learning?\n",
    "\n",
    "Feature Scaling transforms numerical features to a common scale, improving model performance by:\n",
    "\n",
    "Preventing large values from dominating.\n",
    "\n",
    "Speeding up optimization (especially in Gradient Descent)."
   ]
  },
  {
   "cell_type": "markdown",
   "metadata": {},
   "source": [
    "Q.21 How do we perform scaling in Python?\n",
    "\n",
    "\n",
    "from sklearn.preprocessing import StandardScaler\n",
    "scaler = StandardScaler()\n",
    "X_scaled = scaler.fit_transform(X)\n",
    "\n",
    "\n",
    "\n",
    "from sklearn.preprocessing import MinMaxScaler\n",
    "scaler = MinMaxScaler()\n",
    "X_scaled = scaler.fit_transform(X)\n",
    "\n"
   ]
  },
  {
   "cell_type": "markdown",
   "metadata": {},
   "source": [
    "Q.22 Explain data encoding?\n",
    "\n",
    "\n",
    "Data Encoding converts categorical variables into numerical form for ML models.\n",
    "\n",
    "Label Encoding: Assigns integer values.\n",
    "One-Hot Encoding: Converts categories into binary columns."
   ]
  },
  {
   "cell_type": "markdown",
   "metadata": {},
   "source": []
  }
 ],
 "metadata": {
  "kernelspec": {
   "display_name": "Python 3",
   "language": "python",
   "name": "python3"
  },
  "language_info": {
   "codemirror_mode": {
    "name": "ipython",
    "version": 3
   },
   "file_extension": ".py",
   "mimetype": "text/x-python",
   "name": "python",
   "nbconvert_exporter": "python",
   "pygments_lexer": "ipython3",
   "version": "3.9.6"
  }
 },
 "nbformat": 4,
 "nbformat_minor": 2
}
